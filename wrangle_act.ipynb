{
 "cells": [
  {
   "cell_type": "markdown",
   "metadata": {},
   "source": [
    "# Wrangle and Analyze Data "
   ]
  },
  {
   "cell_type": "markdown",
   "metadata": {},
   "source": [
    "## Table of Contents\n",
    "- [Introduction](#intro)\n",
    "- [Gathering DATA](#gath)\n",
    "- [Assessing DATA](#asess)\n",
    "- [Cleaning DATA](#clean)\n",
    "- [Analysing DATA](#ana)\n",
    "- [Conclusion](#conclusion)"
   ]
  },
  {
   "cell_type": "markdown",
   "metadata": {},
   "source": [
    "# --------------------------------------------------------------------------------------\n",
    "<a id=\"intro\"></a> \n",
    "## **Introduction**"
   ]
  },
  {
   "cell_type": "markdown",
   "metadata": {},
   "source": [
    "Data wrangling is one of the most important steps in the data analysis process. By performing this step, the analysis becomes more credible and effective.\n",
    "In this project we will try to apply the three steps of data wrangling, namely: gathering, assessing, cleaning. In this way we will perform an analysis on the resulting data.\n",
    "\n",
    "Our wrangling process will be applied to a dataset from the WeRateDogs tiwtter account. This dataset will record the tweets on the dogs' ratings as well as the favorite breeds. \n",
    "\n",
    "We will use in this project the previous archive of this account and collect more data on the twitter API."
   ]
  },
  {
   "cell_type": "markdown",
   "metadata": {},
   "source": [
    "# --------------------------------------------------------------------------------------\n",
    "<a id=\"gath\"></a> \n",
    "## **Gathering DATA**"
   ]
  },
  {
   "cell_type": "code",
   "execution_count": 1,
   "metadata": {},
   "outputs": [],
   "source": [
    "import pandas as pd \n",
    "import numpy as np\n",
    "import matplotlib.pyplot as plt\n",
    "import seaborn as sns\n",
    "import requests \n",
    "import os\n",
    "import tweepy\n",
    "from tweepy import OAuthHandler\n",
    "import json\n",
    "# from timeit import default_timer as timer\n",
    "pd.set_option('display.max_colwidth', None)"
   ]
  },
  {
   "cell_type": "markdown",
   "metadata": {},
   "source": [
    "### Downloading TSV file "
   ]
  },
  {
   "cell_type": "code",
   "execution_count": 2,
   "metadata": {},
   "outputs": [],
   "source": [
    "#creating a folder for getting the tsv data\n",
    "folder_name = 'TSV'\n",
    "if not os.path.exists(folder_name): #cheking if the folder name didn't exist in the directory\n",
    "    os.makedirs(folder_name) #creat a TSV folder "
   ]
  },
  {
   "cell_type": "code",
   "execution_count": 3,
   "metadata": {},
   "outputs": [],
   "source": [
    "url = 'https://d17h27t6h515a5.cloudfront.net/topher/2017/August/599fd2ad_image-predictions/image-predictions.tsv'\n",
    "response = requests.get(url) #get the link and verify if it's work or not and get response from server\n",
    "with open(os.path.join(folder_name, url.split('/')[-1]), mode='wb') as file: #open the tsv file \n",
    "    file.write(response.content) #write the content of the file got from the url"
   ]
  },
  {
   "cell_type": "code",
   "execution_count": 4,
   "metadata": {},
   "outputs": [
    {
     "data": {
      "text/html": [
       "<div>\n",
       "<style scoped>\n",
       "    .dataframe tbody tr th:only-of-type {\n",
       "        vertical-align: middle;\n",
       "    }\n",
       "\n",
       "    .dataframe tbody tr th {\n",
       "        vertical-align: top;\n",
       "    }\n",
       "\n",
       "    .dataframe thead th {\n",
       "        text-align: right;\n",
       "    }\n",
       "</style>\n",
       "<table border=\"1\" class=\"dataframe\">\n",
       "  <thead>\n",
       "    <tr style=\"text-align: right;\">\n",
       "      <th></th>\n",
       "      <th>tweet_id</th>\n",
       "      <th>jpg_url</th>\n",
       "      <th>img_num</th>\n",
       "      <th>p1</th>\n",
       "      <th>p1_conf</th>\n",
       "      <th>p1_dog</th>\n",
       "      <th>p2</th>\n",
       "      <th>p2_conf</th>\n",
       "      <th>p2_dog</th>\n",
       "      <th>p3</th>\n",
       "      <th>p3_conf</th>\n",
       "      <th>p3_dog</th>\n",
       "    </tr>\n",
       "  </thead>\n",
       "  <tbody>\n",
       "    <tr>\n",
       "      <th>0</th>\n",
       "      <td>666020888022790149</td>\n",
       "      <td>https://pbs.twimg.com/media/CT4udn0WwAA0aMy.jpg</td>\n",
       "      <td>1</td>\n",
       "      <td>Welsh_springer_spaniel</td>\n",
       "      <td>0.465074</td>\n",
       "      <td>True</td>\n",
       "      <td>collie</td>\n",
       "      <td>0.156665</td>\n",
       "      <td>True</td>\n",
       "      <td>Shetland_sheepdog</td>\n",
       "      <td>0.061428</td>\n",
       "      <td>True</td>\n",
       "    </tr>\n",
       "  </tbody>\n",
       "</table>\n",
       "</div>"
      ],
      "text/plain": [
       "             tweet_id                                          jpg_url  \\\n",
       "0  666020888022790149  https://pbs.twimg.com/media/CT4udn0WwAA0aMy.jpg   \n",
       "\n",
       "   img_num                      p1   p1_conf  p1_dog      p2   p2_conf  \\\n",
       "0        1  Welsh_springer_spaniel  0.465074    True  collie  0.156665   \n",
       "\n",
       "   p2_dog                 p3   p3_conf  p3_dog  \n",
       "0    True  Shetland_sheepdog  0.061428    True  "
      ]
     },
     "execution_count": 4,
     "metadata": {},
     "output_type": "execute_result"
    }
   ],
   "source": [
    "#read the tsv file downloaded from given url\n",
    "predict = pd.read_csv('TSV/image-predictions.tsv', sep='\\t') \n",
    "predict.head(1)"
   ]
  },
  {
   "cell_type": "markdown",
   "metadata": {},
   "source": [
    "### Gathering data from twitter API "
   ]
  },
  {
   "cell_type": "code",
   "execution_count": 5,
   "metadata": {},
   "outputs": [],
   "source": [
    "# Query Twitter API for each tweet in the Twitter archive and save JSON in a text file\n",
    "# These are hidden to comply with Twitter's API terms and conditions\n",
    "consumer_key = 'HIDDEN'\n",
    "consumer_secret = 'HIDDEN'\n",
    "access_token = 'HIDDEN'\n",
    "access_secret = 'HIDDEN'\n",
    "\n",
    "auth = OAuthHandler(consumer_key, consumer_secret)\n",
    "auth.set_access_token(access_token, access_secret)\n",
    "\n",
    "api = tweepy.API(auth, wait_on_rate_limit=True)\n",
    "\n",
    "# NOTE TO STUDENT WITH MOBILE VERIFICATION ISSUES:\n",
    "# df_1 is a DataFrame with the twitter_archive_enhanced.csv file. You may have to\n",
    "# change line 17 to match the name of your DataFrame with twitter_archive_enhanced.csv\n",
    "# NOTE TO REVIEWER: this student had mobile verification issues so the following\n",
    "# Twitter API code was sent to this student from a Udacity instructor\n",
    "# Tweet IDs for which to gather additional data via Twitter's API\n",
    "tweet_ids = df_1.tweet_id.values\n",
    "len(tweet_ids)\n",
    "\n",
    "# Query Twitter's API for JSON data for each tweet ID in the Twitter archive\n",
    "count = 0\n",
    "fails_dict = {}\n",
    "start = timer()\n",
    "# Save each tweet's returned JSON as a new line in a .txt file\n",
    "with open('tweet_json.txt', 'w') as outfile:\n",
    "    # This loop will likely take 20-30 minutes to run because of Twitter's rate limit\n",
    "    for tweet_id in tweet_ids:\n",
    "        count += 1\n",
    "        print(str(count) + \": \" + str(tweet_id))\n",
    "        try:\n",
    "            tweet = api.get_status(tweet_id, tweet_mode='extended')\n",
    "            print(\"Success\")\n",
    "            json.dump(tweet._json, outfile)\n",
    "            outfile.write('\\n')\n",
    "        except tweepy.TweepError as e:\n",
    "            print(\"Fail\")\n",
    "            fails_dict[tweet_id] = e\n",
    "            pass\n",
    "end = timer()\n",
    "print(end - start)\n",
    "print(fails_dict)"
   ]
  },
  {
   "cell_type": "markdown",
   "metadata": {},
   "source": [
    "### Gathering from JSON file "
   ]
  },
  {
   "cell_type": "code",
   "execution_count": 6,
   "metadata": {},
   "outputs": [],
   "source": [
    "import json "
   ]
  },
  {
   "cell_type": "code",
   "execution_count": 7,
   "metadata": {
    "scrolled": true
   },
   "outputs": [],
   "source": [
    "#Reading the data from the tweet_json2.txt\n",
    "all_data = [] #declaring a list for storing lines\n",
    "with open('tweet_json2.txt', encoding='utf-8') as json_file:  \n",
    "    for line in json_file:\n",
    "        all_data.append(json.loads(line))\n",
    "\n",
    "#Gathering some data from the tweet_json2 file\n",
    "retweet_list = []\n",
    "for each_dictionary in all_data:\n",
    "        tweet_id = each_dictionary['id']\n",
    "        favorite_count = each_dictionary['favorite_count']\n",
    "        retweet_count = each_dictionary['retweet_count']\n",
    "        retweet_list.append({'tweet_id': str(tweet_id),\n",
    "                             'favorite_count': int(favorite_count),\n",
    "                             'retweet_count': int(retweet_count),\n",
    "                            })"
   ]
  },
  {
   "cell_type": "code",
   "execution_count": 8,
   "metadata": {},
   "outputs": [
    {
     "data": {
      "text/html": [
       "<div>\n",
       "<style scoped>\n",
       "    .dataframe tbody tr th:only-of-type {\n",
       "        vertical-align: middle;\n",
       "    }\n",
       "\n",
       "    .dataframe tbody tr th {\n",
       "        vertical-align: top;\n",
       "    }\n",
       "\n",
       "    .dataframe thead th {\n",
       "        text-align: right;\n",
       "    }\n",
       "</style>\n",
       "<table border=\"1\" class=\"dataframe\">\n",
       "  <thead>\n",
       "    <tr style=\"text-align: right;\">\n",
       "      <th></th>\n",
       "      <th>tweet_id</th>\n",
       "      <th>favorite_count</th>\n",
       "      <th>retweet_count</th>\n",
       "    </tr>\n",
       "  </thead>\n",
       "  <tbody>\n",
       "    <tr>\n",
       "      <th>0</th>\n",
       "      <td>892420643555336193</td>\n",
       "      <td>36116</td>\n",
       "      <td>7693</td>\n",
       "    </tr>\n",
       "  </tbody>\n",
       "</table>\n",
       "</div>"
      ],
      "text/plain": [
       "             tweet_id  favorite_count  retweet_count\n",
       "0  892420643555336193           36116           7693"
      ]
     },
     "execution_count": 8,
     "metadata": {},
     "output_type": "execute_result"
    }
   ],
   "source": [
    "#Creating a Data Frame basing on the list of elements gathering form tweet_json2 file\n",
    "retweet_count = pd.DataFrame(retweet_list, columns = ['tweet_id', 'favorite_count','retweet_count'])\n",
    "retweet_count.head(1)"
   ]
  },
  {
   "cell_type": "markdown",
   "metadata": {},
   "source": [
    "In this step we get two data frame. First one is about prediction of dog breed, second one is about the retweet count and favorite count. \n",
    "\n",
    "For the retweet_count data frame we gather tweet_id for a previous merging between data frames if it's needing.\n"
   ]
  },
  {
   "cell_type": "markdown",
   "metadata": {},
   "source": [
    "# --------------------------------------------------------------------------------------\n",
    "<a id=\"asess\"></a> \n",
    "## **Assessing DATA**"
   ]
  },
  {
   "cell_type": "markdown",
   "metadata": {},
   "source": [
    "In this step we will discovering our gathered data and try to detect the data issues like: missing data issue, quality issue and tidiness issue.\n",
    "\n",
    "We will use two way of assessing data: visualisation method and programming method."
   ]
  },
  {
   "cell_type": "code",
   "execution_count": 9,
   "metadata": {},
   "outputs": [
    {
     "data": {
      "text/html": [
       "<div>\n",
       "<style scoped>\n",
       "    .dataframe tbody tr th:only-of-type {\n",
       "        vertical-align: middle;\n",
       "    }\n",
       "\n",
       "    .dataframe tbody tr th {\n",
       "        vertical-align: top;\n",
       "    }\n",
       "\n",
       "    .dataframe thead th {\n",
       "        text-align: right;\n",
       "    }\n",
       "</style>\n",
       "<table border=\"1\" class=\"dataframe\">\n",
       "  <thead>\n",
       "    <tr style=\"text-align: right;\">\n",
       "      <th></th>\n",
       "      <th>tweet_id</th>\n",
       "      <th>in_reply_to_status_id</th>\n",
       "      <th>in_reply_to_user_id</th>\n",
       "      <th>timestamp</th>\n",
       "      <th>source</th>\n",
       "      <th>text</th>\n",
       "      <th>retweeted_status_id</th>\n",
       "      <th>retweeted_status_user_id</th>\n",
       "      <th>retweeted_status_timestamp</th>\n",
       "      <th>expanded_urls</th>\n",
       "      <th>rating_numerator</th>\n",
       "      <th>rating_denominator</th>\n",
       "      <th>name</th>\n",
       "      <th>doggo</th>\n",
       "      <th>floofer</th>\n",
       "      <th>pupper</th>\n",
       "      <th>puppo</th>\n",
       "    </tr>\n",
       "  </thead>\n",
       "  <tbody>\n",
       "    <tr>\n",
       "      <th>0</th>\n",
       "      <td>892420643555336193</td>\n",
       "      <td>NaN</td>\n",
       "      <td>NaN</td>\n",
       "      <td>2017-08-01 16:23:56 +0000</td>\n",
       "      <td>&lt;a href=\"http://twitter.com/download/iphone\" rel=\"nofollow\"&gt;Twitter for iPhone&lt;/a&gt;</td>\n",
       "      <td>This is Phineas. He's a mystical boy. Only ever appears in the hole of a donut. 13/10 https://t.co/MgUWQ76dJU</td>\n",
       "      <td>NaN</td>\n",
       "      <td>NaN</td>\n",
       "      <td>NaN</td>\n",
       "      <td>https://twitter.com/dog_rates/status/892420643555336193/photo/1</td>\n",
       "      <td>13</td>\n",
       "      <td>10</td>\n",
       "      <td>Phineas</td>\n",
       "      <td>None</td>\n",
       "      <td>None</td>\n",
       "      <td>None</td>\n",
       "      <td>None</td>\n",
       "    </tr>\n",
       "  </tbody>\n",
       "</table>\n",
       "</div>"
      ],
      "text/plain": [
       "             tweet_id  in_reply_to_status_id  in_reply_to_user_id  \\\n",
       "0  892420643555336193                    NaN                  NaN   \n",
       "\n",
       "                   timestamp  \\\n",
       "0  2017-08-01 16:23:56 +0000   \n",
       "\n",
       "                                                                               source  \\\n",
       "0  <a href=\"http://twitter.com/download/iphone\" rel=\"nofollow\">Twitter for iPhone</a>   \n",
       "\n",
       "                                                                                                            text  \\\n",
       "0  This is Phineas. He's a mystical boy. Only ever appears in the hole of a donut. 13/10 https://t.co/MgUWQ76dJU   \n",
       "\n",
       "   retweeted_status_id  retweeted_status_user_id retweeted_status_timestamp  \\\n",
       "0                  NaN                       NaN                        NaN   \n",
       "\n",
       "                                                     expanded_urls  \\\n",
       "0  https://twitter.com/dog_rates/status/892420643555336193/photo/1   \n",
       "\n",
       "   rating_numerator  rating_denominator     name doggo floofer pupper puppo  \n",
       "0                13                  10  Phineas  None    None   None  None  "
      ]
     },
     "execution_count": 9,
     "metadata": {},
     "output_type": "execute_result"
    }
   ],
   "source": [
    "df = pd.read_csv('twitter-archive-enhanced.csv')\n",
    "df.head(1)"
   ]
  },
  {
   "cell_type": "code",
   "execution_count": 10,
   "metadata": {
    "scrolled": true,
    "tags": []
   },
   "outputs": [
    {
     "name": "stdout",
     "output_type": "stream",
     "text": [
      "<class 'pandas.core.frame.DataFrame'>\n",
      "RangeIndex: 2356 entries, 0 to 2355\n",
      "Data columns (total 17 columns):\n",
      " #   Column                      Non-Null Count  Dtype  \n",
      "---  ------                      --------------  -----  \n",
      " 0   tweet_id                    2356 non-null   int64  \n",
      " 1   in_reply_to_status_id       78 non-null     float64\n",
      " 2   in_reply_to_user_id         78 non-null     float64\n",
      " 3   timestamp                   2356 non-null   object \n",
      " 4   source                      2356 non-null   object \n",
      " 5   text                        2356 non-null   object \n",
      " 6   retweeted_status_id         181 non-null    float64\n",
      " 7   retweeted_status_user_id    181 non-null    float64\n",
      " 8   retweeted_status_timestamp  181 non-null    object \n",
      " 9   expanded_urls               2297 non-null   object \n",
      " 10  rating_numerator            2356 non-null   int64  \n",
      " 11  rating_denominator          2356 non-null   int64  \n",
      " 12  name                        2356 non-null   object \n",
      " 13  doggo                       2356 non-null   object \n",
      " 14  floofer                     2356 non-null   object \n",
      " 15  pupper                      2356 non-null   object \n",
      " 16  puppo                       2356 non-null   object \n",
      "dtypes: float64(4), int64(3), object(10)\n",
      "memory usage: 313.0+ KB\n"
     ]
    }
   ],
   "source": [
    "df.info()"
   ]
  },
  {
   "cell_type": "code",
   "execution_count": 11,
   "metadata": {
    "tags": []
   },
   "outputs": [
    {
     "name": "stdout",
     "output_type": "stream",
     "text": [
      "tweet_id 0\n",
      "in_reply_to_status_id 2278\n",
      "in_reply_to_user_id 2324\n",
      "timestamp 0\n",
      "source 2352\n",
      "text 0\n",
      "retweeted_status_id 2174\n",
      "retweeted_status_user_id 2330\n",
      "retweeted_status_timestamp 2174\n",
      "expanded_urls 137\n",
      "rating_numerator 2316\n",
      "rating_denominator 2338\n",
      "name 1399\n",
      "doggo 2354\n",
      "floofer 2354\n",
      "pupper 2354\n",
      "puppo 2354\n"
     ]
    }
   ],
   "source": [
    "for i in df.columns:\n",
    "    print(i, sum(df[str(i)].duplicated()))  "
   ]
  },
  {
   "cell_type": "code",
   "execution_count": 12,
   "metadata": {
    "tags": []
   },
   "outputs": [
    {
     "name": "stdout",
     "output_type": "stream",
     "text": [
      "rating_numerator [  13   12   14    5   17   11   10  420  666    6   15  182  960    0\n",
      "   75    7   84    9   24    8    1   27    3    4  165 1776  204   50\n",
      "   99   80   45   60   44  143  121   20   26    2  144   88]\n",
      "rating_denominator [ 10   0  15  70   7  11 150 170  20  50  90  80  40 130 110  16 120   2]\n",
      "doggo ['None' 'doggo']\n",
      "floofer ['None' 'floofer']\n",
      "pupper ['None' 'pupper']\n",
      "puppo ['None' 'puppo']\n"
     ]
    }
   ],
   "source": [
    "l_columns = ['rating_numerator', 'rating_denominator', 'doggo', 'floofer', 'pupper', 'puppo']\n",
    "for i in l_columns:\n",
    "    print(i, df[str(i)].unique())"
   ]
  },
  {
   "cell_type": "code",
   "execution_count": 13,
   "metadata": {
    "tags": []
   },
   "outputs": [
    {
     "name": "stdout",
     "output_type": "stream",
     "text": [
      "tweet_id 0\n",
      "in_reply_to_status_id 2278\n",
      "in_reply_to_user_id 2278\n",
      "timestamp 0\n",
      "source 0\n",
      "text 0\n",
      "retweeted_status_id 2175\n",
      "retweeted_status_user_id 2175\n",
      "retweeted_status_timestamp 2175\n",
      "expanded_urls 59\n",
      "rating_numerator 0\n",
      "rating_denominator 0\n",
      "name 0\n",
      "doggo 0\n",
      "floofer 0\n",
      "pupper 0\n",
      "puppo 0\n"
     ]
    }
   ],
   "source": [
    "for i in df.columns:\n",
    "    print(i, sum(df[str(i)].isnull()))"
   ]
  },
  {
   "cell_type": "code",
   "execution_count": 14,
   "metadata": {
    "scrolled": true,
    "tags": []
   },
   "outputs": [
    {
     "name": "stdout",
     "output_type": "stream",
     "text": [
      "<class 'pandas.core.frame.DataFrame'>\n",
      "RangeIndex: 2329 entries, 0 to 2328\n",
      "Data columns (total 3 columns):\n",
      " #   Column          Non-Null Count  Dtype \n",
      "---  ------          --------------  ----- \n",
      " 0   tweet_id        2329 non-null   object\n",
      " 1   favorite_count  2329 non-null   int64 \n",
      " 2   retweet_count   2329 non-null   int64 \n",
      "dtypes: int64(2), object(1)\n",
      "memory usage: 54.7+ KB\n"
     ]
    }
   ],
   "source": [
    "retweet_count.info()"
   ]
  },
  {
   "cell_type": "code",
   "execution_count": 15,
   "metadata": {
    "tags": []
   },
   "outputs": [
    {
     "name": "stdout",
     "output_type": "stream",
     "text": [
      "tweet_id 0\n",
      "favorite_count 349\n",
      "retweet_count 655\n"
     ]
    }
   ],
   "source": [
    "for i in retweet_count.columns:\n",
    "    print(i, sum(retweet_count[str(i)].duplicated()))"
   ]
  },
  {
   "cell_type": "code",
   "execution_count": 16,
   "metadata": {
    "tags": []
   },
   "outputs": [
    {
     "name": "stdout",
     "output_type": "stream",
     "text": [
      "tweet_id 0\n",
      "favorite_count 0\n",
      "retweet_count 0\n"
     ]
    }
   ],
   "source": [
    "for i in retweet_count.columns:\n",
    "    print(i, sum(retweet_count[str(i)].isnull()))"
   ]
  },
  {
   "cell_type": "code",
   "execution_count": 17,
   "metadata": {
    "tags": []
   },
   "outputs": [
    {
     "name": "stdout",
     "output_type": "stream",
     "text": [
      "<class 'pandas.core.frame.DataFrame'>\n",
      "RangeIndex: 2075 entries, 0 to 2074\n",
      "Data columns (total 12 columns):\n",
      " #   Column    Non-Null Count  Dtype  \n",
      "---  ------    --------------  -----  \n",
      " 0   tweet_id  2075 non-null   int64  \n",
      " 1   jpg_url   2075 non-null   object \n",
      " 2   img_num   2075 non-null   int64  \n",
      " 3   p1        2075 non-null   object \n",
      " 4   p1_conf   2075 non-null   float64\n",
      " 5   p1_dog    2075 non-null   bool   \n",
      " 6   p2        2075 non-null   object \n",
      " 7   p2_conf   2075 non-null   float64\n",
      " 8   p2_dog    2075 non-null   bool   \n",
      " 9   p3        2075 non-null   object \n",
      " 10  p3_conf   2075 non-null   float64\n",
      " 11  p3_dog    2075 non-null   bool   \n",
      "dtypes: bool(3), float64(3), int64(2), object(4)\n",
      "memory usage: 152.1+ KB\n"
     ]
    }
   ],
   "source": [
    "predict.info()"
   ]
  },
  {
   "cell_type": "code",
   "execution_count": 18,
   "metadata": {
    "tags": []
   },
   "outputs": [
    {
     "name": "stdout",
     "output_type": "stream",
     "text": [
      "tweet_id 0\n",
      "jpg_url 66\n",
      "img_num 2071\n",
      "p1 1697\n",
      "p1_conf 69\n",
      "p1_dog 2073\n",
      "p2 1670\n",
      "p2_conf 71\n",
      "p2_dog 2073\n",
      "p3 1667\n",
      "p3_conf 69\n",
      "p3_dog 2073\n"
     ]
    }
   ],
   "source": [
    "for i in predict.columns:\n",
    "    print(i, sum(predict[str(i)].duplicated()))"
   ]
  },
  {
   "cell_type": "code",
   "execution_count": 19,
   "metadata": {
    "tags": []
   },
   "outputs": [
    {
     "name": "stdout",
     "output_type": "stream",
     "text": [
      "tweet_id 0\n",
      "jpg_url 0\n",
      "img_num 0\n",
      "p1 0\n",
      "p1_conf 0\n",
      "p1_dog 0\n",
      "p2 0\n",
      "p2_conf 0\n",
      "p2_dog 0\n",
      "p3 0\n",
      "p3_conf 0\n",
      "p3_dog 0\n"
     ]
    }
   ],
   "source": [
    "for i in predict.columns:\n",
    "    print(i, sum(predict[str(i)].isnull()))"
   ]
  },
  {
   "cell_type": "code",
   "execution_count": 20,
   "metadata": {},
   "outputs": [
    {
     "data": {
      "text/plain": [
       "Labrador_retriever    79\n",
       "Chihuahua             58\n",
       "golden_retriever      48\n",
       "Eskimo_dog            38\n",
       "kelpie                35\n",
       "                      ..\n",
       "bell_cote              1\n",
       "desktop_computer       1\n",
       "pool_table             1\n",
       "goldfish               1\n",
       "partridge              1\n",
       "Name: p3, Length: 408, dtype: int64"
      ]
     },
     "execution_count": 20,
     "metadata": {},
     "output_type": "execute_result"
    }
   ],
   "source": [
    "predict.p3.value_counts()"
   ]
  },
  {
   "cell_type": "markdown",
   "metadata": {},
   "source": [
    "## ---------------------------------------------------------------------------------------\n",
    "\n",
    "After doing programmatically assessing and visualisation assessing, we got this issues:\n",
    "\n",
    "### Missing issues\n",
    "\n",
    "**twitter-archive-enhanced table**\n",
    "\n",
    "- Unretrieved rating data from some tweets texts.\n",
    "\n",
    "### Quality issues\n",
    "\n",
    "**twitter-archive-enhanced table**\n",
    "\n",
    "- Abnormal values for rating_numerator, rating_denominator columns;\n",
    "- The timestamp columns must be date time not string;\n",
    "- Keep only date for timestamp columns;\n",
    "- Rename timestamp column;\n",
    "- Rename timestamp, year, month and day columns;\n",
    "- The tweet_id columns must be string not integer;\n",
    "- Drop no dog names;\n",
    "- Drop useless columns.\n",
    "\n",
    "\n",
    "**predict table**\n",
    "\n",
    "- Capital first letters for breeds dogs; \n",
    "- Underscore for many breed dogs names; \n",
    "- Rounding float numbers;\n",
    "- Convert the numbers to percentage format;\n",
    "- The right predictions; \n",
    "- The high right prediction percentage;\n",
    "- No need for source of JPG url;\n",
    "- Drop useless columns.\n",
    "\n",
    "**retweet table**\n",
    "\n",
    "- Tweet_id column is a string.\n",
    "\n",
    "### Tidiness issues\n",
    "\n",
    "- Merging doggo, floofer, pupper, puppo columns;\n",
    "- Assembling many parts of 3 tables in same table.\n"
   ]
  },
  {
   "cell_type": "markdown",
   "metadata": {},
   "source": [
    "# ---------------------------------------------------------------------------------------\n",
    "<a id=\"clean\"></a> \n",
    "## **Cleaning DATA**"
   ]
  },
  {
   "cell_type": "markdown",
   "metadata": {},
   "source": [
    "Before starting the cleaning process we will make a copies for the 3 tables to keep the original data, in case we make data cleaning errors "
   ]
  },
  {
   "cell_type": "code",
   "execution_count": 21,
   "metadata": {},
   "outputs": [],
   "source": [
    "df_clean = df.copy()\n",
    "predict_clean = predict.copy()\n",
    "retweet_clean = retweet_count.copy()"
   ]
  },
  {
   "cell_type": "code",
   "execution_count": 22,
   "metadata": {},
   "outputs": [
    {
     "name": "stdout",
     "output_type": "stream",
     "text": [
      "<class 'pandas.core.frame.DataFrame'>\n",
      "RangeIndex: 2356 entries, 0 to 2355\n",
      "Data columns (total 17 columns):\n",
      " #   Column                      Non-Null Count  Dtype  \n",
      "---  ------                      --------------  -----  \n",
      " 0   tweet_id                    2356 non-null   int64  \n",
      " 1   in_reply_to_status_id       78 non-null     float64\n",
      " 2   in_reply_to_user_id         78 non-null     float64\n",
      " 3   timestamp                   2356 non-null   object \n",
      " 4   source                      2356 non-null   object \n",
      " 5   text                        2356 non-null   object \n",
      " 6   retweeted_status_id         181 non-null    float64\n",
      " 7   retweeted_status_user_id    181 non-null    float64\n",
      " 8   retweeted_status_timestamp  181 non-null    object \n",
      " 9   expanded_urls               2297 non-null   object \n",
      " 10  rating_numerator            2356 non-null   int64  \n",
      " 11  rating_denominator          2356 non-null   int64  \n",
      " 12  name                        2356 non-null   object \n",
      " 13  doggo                       2356 non-null   object \n",
      " 14  floofer                     2356 non-null   object \n",
      " 15  pupper                      2356 non-null   object \n",
      " 16  puppo                       2356 non-null   object \n",
      "dtypes: float64(4), int64(3), object(10)\n",
      "memory usage: 313.0+ KB\n"
     ]
    }
   ],
   "source": [
    "df_clean.info()"
   ]
  },
  {
   "cell_type": "markdown",
   "metadata": {},
   "source": [
    "# --------------------------------------------------------------------------------------\n",
    "### ***Missing issues***\n",
    "# --------------------------------------------------------------------------------------\n",
    "***`twitter-archive-enhanced table` : Unretrieved rating data from some tweets texts.***"
   ]
  },
  {
   "cell_type": "markdown",
   "metadata": {},
   "source": [
    "#### Define\n",
    "\n",
    "We will extract rating and stage dogs data from tweet text using `RegEx` module, specialy `str.extract method` and `str.split method`\n",
    "\n"
   ]
  },
  {
   "cell_type": "markdown",
   "metadata": {},
   "source": [
    "#### Code\n",
    "\n",
    "Before retrieving new Rating values and Stage values we will cheking for unique values and values counting for each kind of values"
   ]
  },
  {
   "cell_type": "code",
   "execution_count": 23,
   "metadata": {},
   "outputs": [
    {
     "data": {
      "text/plain": [
       "array([ 10,   0,  15,  70,   7,  11, 150, 170,  20,  50,  90,  80,  40,\n",
       "       130, 110,  16, 120,   2], dtype=int64)"
      ]
     },
     "execution_count": 23,
     "metadata": {},
     "output_type": "execute_result"
    }
   ],
   "source": [
    "df_clean.rating_denominator.unique()\n",
    "# , df_clean.rating_denominator.value_counts() "
   ]
  },
  {
   "cell_type": "code",
   "execution_count": 24,
   "metadata": {},
   "outputs": [
    {
     "data": {
      "text/plain": [
       "array([  13,   12,   14,    5,   17,   11,   10,  420,  666,    6,   15,\n",
       "        182,  960,    0,   75,    7,   84,    9,   24,    8,    1,   27,\n",
       "          3,    4,  165, 1776,  204,   50,   99,   80,   45,   60,   44,\n",
       "        143,  121,   20,   26,    2,  144,   88], dtype=int64)"
      ]
     },
     "execution_count": 24,
     "metadata": {},
     "output_type": "execute_result"
    }
   ],
   "source": [
    "df_clean.rating_numerator.unique()\n",
    "#, df_clean.rating_numerator.value_counts() "
   ]
  },
  {
   "cell_type": "code",
   "execution_count": 25,
   "metadata": {},
   "outputs": [],
   "source": [
    "#dropping rating_numerator and rating_denominator columns to creat new ones with reteiving values \n",
    "df_clean = df_clean.drop('rating_numerator', axis=1)\n",
    "df_clean = df_clean.drop('rating_denominator', axis=1)"
   ]
  },
  {
   "cell_type": "code",
   "execution_count": 26,
   "metadata": {},
   "outputs": [],
   "source": [
    "# extract new values from the tweet text and assign its to new columns colling rating\n",
    "df_clean[\"rating\"] = df_clean.text.str.extract('(\\d{1,3}/[1-9][0-9][0-9]?)', expand=True)"
   ]
  },
  {
   "cell_type": "code",
   "execution_count": 27,
   "metadata": {},
   "outputs": [
    {
     "name": "stderr",
     "output_type": "stream",
     "text": [
      "<ipython-input-27-94eacbbf5c5b>:2: FutureWarning: Columnar iteration over characters will be deprecated in future releases.\n",
      "  df_clean['rating_numerator'], df_clean['rating_denominator'] = df_clean['rating'].str.split('/', 1).str\n"
     ]
    }
   ],
   "source": [
    "#split rating column to two columns \n",
    "df_clean['rating_numerator'], df_clean['rating_denominator'] = df_clean['rating'].str.split('/', 1).str"
   ]
  },
  {
   "cell_type": "markdown",
   "metadata": {},
   "source": [
    "#### Test "
   ]
  },
  {
   "cell_type": "code",
   "execution_count": 28,
   "metadata": {},
   "outputs": [
    {
     "data": {
      "text/plain": [
       "(array(['10', '15', '70', nan, '11', '150', '170', '20', '50', '90', '80',\n",
       "        '40', '130', '110', '16', '120'], dtype=object),\n",
       " 10     2335\n",
       " 11        3\n",
       " 50        3\n",
       " 20        2\n",
       " 80        2\n",
       " 130       1\n",
       " 170       1\n",
       " 90        1\n",
       " 15        1\n",
       " 40        1\n",
       " 120       1\n",
       " 70        1\n",
       " 150       1\n",
       " 110       1\n",
       " 16        1\n",
       " Name: rating_denominator, dtype: int64)"
      ]
     },
     "execution_count": 28,
     "metadata": {},
     "output_type": "execute_result"
    }
   ],
   "source": [
    "df_clean.rating_denominator.unique(), df_clean.rating_denominator.value_counts() "
   ]
  },
  {
   "cell_type": "code",
   "execution_count": 29,
   "metadata": {},
   "outputs": [
    {
     "data": {
      "text/plain": [
       "array(['13', '12', '14', '5', '17', '11', '10', '420', '666', '6', '15',\n",
       "       '182', '0', '75', '007', '84', '7', '9', nan, '8', '1', '27', '3',\n",
       "       '4', '165', '776', '204', '50', '99', '80', '45', '60', '44',\n",
       "       '143', '121', '20', '26', '2', '144', '88'], dtype=object)"
      ]
     },
     "execution_count": 29,
     "metadata": {},
     "output_type": "execute_result"
    }
   ],
   "source": [
    "df_clean.rating_numerator.unique()\n",
    "# df_clean.rating_numerator.value_counts() "
   ]
  },
  {
   "cell_type": "markdown",
   "metadata": {},
   "source": [
    "As we can see the extracting allow us to find some new Rating values (even is not very significant)"
   ]
  },
  {
   "cell_type": "markdown",
   "metadata": {},
   "source": [
    "# ---------------------------------------------------------------------------------------\n",
    "\n",
    "### ***Quality issues***\n",
    "\n",
    "# ---------------------------------------------------------------------------------------\n",
    "***`twitter-archive-enhanced table` : Abnormal values for rating_numerator, rating_denominator columns***"
   ]
  },
  {
   "cell_type": "markdown",
   "metadata": {},
   "source": [
    "#### Define\n",
    "\n",
    "We will try to adjust the values of rating by keep which based on 10 and adjust the numerator by calculating new rating values and modifying some other values"
   ]
  },
  {
   "cell_type": "markdown",
   "metadata": {},
   "source": [
    "#### Code"
   ]
  },
  {
   "cell_type": "code",
   "execution_count": 30,
   "metadata": {},
   "outputs": [
    {
     "data": {
      "text/plain": [
       "10     2335\n",
       "11        3\n",
       "50        3\n",
       "20        2\n",
       "80        2\n",
       "130       1\n",
       "170       1\n",
       "90        1\n",
       "15        1\n",
       "40        1\n",
       "120       1\n",
       "70        1\n",
       "150       1\n",
       "110       1\n",
       "16        1\n",
       "Name: rating_denominator, dtype: int64"
      ]
     },
     "execution_count": 30,
     "metadata": {},
     "output_type": "execute_result"
    }
   ],
   "source": [
    "df_clean.rating_denominator.value_counts()"
   ]
  },
  {
   "cell_type": "markdown",
   "metadata": {},
   "source": [
    "As we can see the `10` value is the predominant in this column, it's about 99% (2335/2356) of values, it's preferal to delete other no `10` value which is can't affect the data structure of this table."
   ]
  },
  {
   "cell_type": "code",
   "execution_count": 31,
   "metadata": {},
   "outputs": [],
   "source": [
    "#drop all values which aren't a 10 based\n",
    "df_clean = df_clean[df_clean.rating_denominator == '10']"
   ]
  },
  {
   "cell_type": "code",
   "execution_count": 32,
   "metadata": {},
   "outputs": [],
   "source": [
    "#convert rating_numerator and rating_denominator to can perform some calculations\n",
    "df_clean['rating_denominator'] = df_clean.rating_denominator.astype('int64')\n",
    "df_clean['rating_numerator'] = df_clean.rating_numerator.astype('int64')"
   ]
  },
  {
   "cell_type": "code",
   "execution_count": 33,
   "metadata": {},
   "outputs": [
    {
     "data": {
      "text/plain": [
       "12     558\n",
       "11     463\n",
       "10     461\n",
       "13     352\n",
       "9      157\n",
       "8      102\n",
       "14      54\n",
       "7       54\n",
       "5       37\n",
       "6       32\n",
       "3       19\n",
       "4       15\n",
       "2        9\n",
       "1        8\n",
       "75       2\n",
       "0        2\n",
       "420      2\n",
       "15       2\n",
       "26       1\n",
       "182      1\n",
       "27       1\n",
       "776      1\n",
       "17       1\n",
       "666      1\n",
       "Name: rating_numerator, dtype: int64"
      ]
     },
     "execution_count": 33,
     "metadata": {},
     "output_type": "execute_result"
    }
   ],
   "source": [
    "df_clean.rating_numerator.value_counts()"
   ]
  },
  {
   "cell_type": "code",
   "execution_count": 34,
   "metadata": {
    "tags": []
   },
   "outputs": [
    {
     "name": "stdout",
     "output_type": "stream",
     "text": [
      "188     @dhmontgomery We also gave snoop dogg a 420/10 but I think that predated your research\n",
      "2074       After so many requests... here you go.\\n\\nGood dogg. 420/10 https://t.co/yfAAo1gdeY\n",
      "Name: text, dtype: object\n",
      "188     @dhmontgomery We also gave snoop dogg a 420/10 but I think that predated your research\n",
      "2074       After so many requests... here you go.\\n\\nGood dogg. 420/10 https://t.co/yfAAo1gdeY\n",
      "Name: text, dtype: object\n",
      "340    RT @dog_rates: This is Logan, the Chow who lived. He solemnly swears he's up to lots of good. H*ckin magical af 9.75/10 https://t.co/yBO5wu…\n",
      "695                This is Logan, the Chow who lived. He solemnly swears he's up to lots of good. H*ckin magical af 9.75/10 https://t.co/yBO5wuqaPS\n",
      "Name: text, dtype: object\n",
      "340    RT @dog_rates: This is Logan, the Chow who lived. He solemnly swears he's up to lots of good. H*ckin magical af 9.75/10 https://t.co/yBO5wu…\n",
      "695                This is Logan, the Chow who lived. He solemnly swears he's up to lots of good. H*ckin magical af 9.75/10 https://t.co/yBO5wuqaPS\n",
      "Name: text, dtype: object\n",
      "763    This is Sophie. She's a Jubilant Bush Pupper. Super h*ckin rare. Appears at random just to smile at the locals. 11.27/10 would smile back https://t.co/QFaUiIHxHq\n",
      "Name: text, dtype: object\n",
      "290    @markhoppus 182/10\n",
      "Name: text, dtype: object\n",
      "189    @s8n You tried very hard to portray this good boy as not so good, but you have ultimately failed. His goodness shines through. 666/10\n",
      "Name: text, dtype: object\n",
      "979    This is Atticus. He's quite simply America af. 1776/10 https://t.co/GRXwMxLBkh\n",
      "Name: text, dtype: object\n",
      "1712    Here we have uncovered an entire battalion of holiday puppers. Average of 11.26/10 https://t.co/eNm2S6p9BD\n",
      "Name: text, dtype: object\n"
     ]
    }
   ],
   "source": [
    "# searching for abnormal values in text to can identify the cause of this values\n",
    "L3 = [420, 75, 27, 182, 666, 776, 26]\n",
    "L4 = list(df_clean.rating_numerator.values)\n",
    "for i in L3:\n",
    "    for j in L4:\n",
    "        if j == i:\n",
    "            print(df_clean[df_clean['rating_numerator'] == i]['text'])"
   ]
  },
  {
   "cell_type": "markdown",
   "metadata": {},
   "source": [
    "As we can see this abnormal values can be average or no meaning rating, we can replace values which are average and delete others."
   ]
  },
  {
   "cell_type": "code",
   "execution_count": 35,
   "metadata": {},
   "outputs": [],
   "source": [
    "df_clean.rating_numerator = df_clean.rating_numerator.replace([75, 27, 26], [9.75, 11.27, 11.26])"
   ]
  },
  {
   "cell_type": "code",
   "execution_count": 36,
   "metadata": {},
   "outputs": [],
   "source": [
    "# exclure 420, 182, 666, 776\n",
    "df_clean = df_clean[df_clean.rating_numerator != 420]\n",
    "df_clean = df_clean[df_clean.rating_numerator != 182]\n",
    "df_clean = df_clean[df_clean.rating_numerator != 666]\n",
    "df_clean = df_clean[df_clean.rating_numerator != 776]"
   ]
  },
  {
   "cell_type": "markdown",
   "metadata": {},
   "source": [
    "#### Test"
   ]
  },
  {
   "cell_type": "code",
   "execution_count": 37,
   "metadata": {},
   "outputs": [
    {
     "data": {
      "text/plain": [
       "array([13.  , 12.  , 14.  ,  5.  , 17.  , 11.  , 10.  ,  6.  , 15.  ,\n",
       "        0.  ,  9.75,  7.  ,  9.  ,  8.  ,  1.  , 11.27,  3.  ,  4.  ,\n",
       "       11.26,  2.  ])"
      ]
     },
     "execution_count": 37,
     "metadata": {},
     "output_type": "execute_result"
    }
   ],
   "source": [
    "df_clean.rating_numerator.unique()"
   ]
  },
  {
   "cell_type": "markdown",
   "metadata": {},
   "source": [
    "# ---------------------------------------------------------------------------------------\n",
    "***`twitter-archive-enhanced table` : The timestamp column must be date time not string;***"
   ]
  },
  {
   "cell_type": "markdown",
   "metadata": {},
   "source": [
    "#### Define"
   ]
  },
  {
   "cell_type": "markdown",
   "metadata": {},
   "source": [
    "We will converting timestamp column to datetime format by using `to_datetime()` method and separate year, month also day to new columns "
   ]
  },
  {
   "cell_type": "markdown",
   "metadata": {},
   "source": [
    "#### Code\n"
   ]
  },
  {
   "cell_type": "code",
   "execution_count": 38,
   "metadata": {},
   "outputs": [],
   "source": [
    "#convert timestamp to datetime\n",
    "df_clean['timestamp'] = pd.to_datetime(df_clean['timestamp'])\n",
    "#extract year, month and day from timestamp column to new columns\n",
    "df_clean['year'] = df_clean['timestamp'].dt.year\n",
    "df_clean['month'] = df_clean['timestamp'].dt.month\n",
    "df_clean['day'] = df_clean['timestamp'].dt.day"
   ]
  },
  {
   "cell_type": "markdown",
   "metadata": {},
   "source": [
    "#### Test"
   ]
  },
  {
   "cell_type": "code",
   "execution_count": 39,
   "metadata": {
    "tags": []
   },
   "outputs": [
    {
     "name": "stdout",
     "output_type": "stream",
     "text": [
      "<class 'pandas.core.frame.DataFrame'>\n",
      "Int64Index: 2330 entries, 0 to 2355\n",
      "Data columns (total 21 columns):\n",
      " #   Column                      Non-Null Count  Dtype              \n",
      "---  ------                      --------------  -----              \n",
      " 0   tweet_id                    2330 non-null   int64              \n",
      " 1   in_reply_to_status_id       71 non-null     float64            \n",
      " 2   in_reply_to_user_id         71 non-null     float64            \n",
      " 3   timestamp                   2330 non-null   datetime64[ns, UTC]\n",
      " 4   source                      2330 non-null   object             \n",
      " 5   text                        2330 non-null   object             \n",
      " 6   retweeted_status_id         180 non-null    float64            \n",
      " 7   retweeted_status_user_id    180 non-null    float64            \n",
      " 8   retweeted_status_timestamp  180 non-null    object             \n",
      " 9   expanded_urls               2277 non-null   object             \n",
      " 10  name                        2330 non-null   object             \n",
      " 11  doggo                       2330 non-null   object             \n",
      " 12  floofer                     2330 non-null   object             \n",
      " 13  pupper                      2330 non-null   object             \n",
      " 14  puppo                       2330 non-null   object             \n",
      " 15  rating                      2330 non-null   object             \n",
      " 16  rating_numerator            2330 non-null   float64            \n",
      " 17  rating_denominator          2330 non-null   int64              \n",
      " 18  year                        2330 non-null   int64              \n",
      " 19  month                       2330 non-null   int64              \n",
      " 20  day                         2330 non-null   int64              \n",
      "dtypes: datetime64[ns, UTC](1), float64(5), int64(5), object(10)\n",
      "memory usage: 400.5+ KB\n"
     ]
    }
   ],
   "source": [
    "df_clean.info()"
   ]
  },
  {
   "cell_type": "markdown",
   "metadata": {},
   "source": [
    "# ---------------------------------------------------------------------------------------\n",
    "***`twitter-archive-enhanced table` : Keep only date for timestamp column***"
   ]
  },
  {
   "cell_type": "markdown",
   "metadata": {},
   "source": [
    "#### Define \n",
    "\n",
    "We will use the date() method to keep only date from this two date time columns "
   ]
  },
  {
   "cell_type": "markdown",
   "metadata": {},
   "source": [
    "#### Code "
   ]
  },
  {
   "cell_type": "code",
   "execution_count": 40,
   "metadata": {},
   "outputs": [],
   "source": [
    "df_clean.timestamp = df_clean.timestamp.apply(lambda x: x.date())"
   ]
  },
  {
   "cell_type": "markdown",
   "metadata": {},
   "source": [
    "#### Test "
   ]
  },
  {
   "cell_type": "code",
   "execution_count": 41,
   "metadata": {},
   "outputs": [
    {
     "data": {
      "text/html": [
       "<div>\n",
       "<style scoped>\n",
       "    .dataframe tbody tr th:only-of-type {\n",
       "        vertical-align: middle;\n",
       "    }\n",
       "\n",
       "    .dataframe tbody tr th {\n",
       "        vertical-align: top;\n",
       "    }\n",
       "\n",
       "    .dataframe thead th {\n",
       "        text-align: right;\n",
       "    }\n",
       "</style>\n",
       "<table border=\"1\" class=\"dataframe\">\n",
       "  <thead>\n",
       "    <tr style=\"text-align: right;\">\n",
       "      <th></th>\n",
       "      <th>tweet_id</th>\n",
       "      <th>in_reply_to_status_id</th>\n",
       "      <th>in_reply_to_user_id</th>\n",
       "      <th>timestamp</th>\n",
       "      <th>source</th>\n",
       "      <th>text</th>\n",
       "      <th>retweeted_status_id</th>\n",
       "      <th>retweeted_status_user_id</th>\n",
       "      <th>retweeted_status_timestamp</th>\n",
       "      <th>expanded_urls</th>\n",
       "      <th>...</th>\n",
       "      <th>doggo</th>\n",
       "      <th>floofer</th>\n",
       "      <th>pupper</th>\n",
       "      <th>puppo</th>\n",
       "      <th>rating</th>\n",
       "      <th>rating_numerator</th>\n",
       "      <th>rating_denominator</th>\n",
       "      <th>year</th>\n",
       "      <th>month</th>\n",
       "      <th>day</th>\n",
       "    </tr>\n",
       "  </thead>\n",
       "  <tbody>\n",
       "    <tr>\n",
       "      <th>0</th>\n",
       "      <td>892420643555336193</td>\n",
       "      <td>NaN</td>\n",
       "      <td>NaN</td>\n",
       "      <td>2017-08-01</td>\n",
       "      <td>&lt;a href=\"http://twitter.com/download/iphone\" rel=\"nofollow\"&gt;Twitter for iPhone&lt;/a&gt;</td>\n",
       "      <td>This is Phineas. He's a mystical boy. Only ever appears in the hole of a donut. 13/10 https://t.co/MgUWQ76dJU</td>\n",
       "      <td>NaN</td>\n",
       "      <td>NaN</td>\n",
       "      <td>NaN</td>\n",
       "      <td>https://twitter.com/dog_rates/status/892420643555336193/photo/1</td>\n",
       "      <td>...</td>\n",
       "      <td>None</td>\n",
       "      <td>None</td>\n",
       "      <td>None</td>\n",
       "      <td>None</td>\n",
       "      <td>13/10</td>\n",
       "      <td>13.0</td>\n",
       "      <td>10</td>\n",
       "      <td>2017</td>\n",
       "      <td>8</td>\n",
       "      <td>1</td>\n",
       "    </tr>\n",
       "  </tbody>\n",
       "</table>\n",
       "<p>1 rows × 21 columns</p>\n",
       "</div>"
      ],
      "text/plain": [
       "             tweet_id  in_reply_to_status_id  in_reply_to_user_id   timestamp  \\\n",
       "0  892420643555336193                    NaN                  NaN  2017-08-01   \n",
       "\n",
       "                                                                               source  \\\n",
       "0  <a href=\"http://twitter.com/download/iphone\" rel=\"nofollow\">Twitter for iPhone</a>   \n",
       "\n",
       "                                                                                                            text  \\\n",
       "0  This is Phineas. He's a mystical boy. Only ever appears in the hole of a donut. 13/10 https://t.co/MgUWQ76dJU   \n",
       "\n",
       "   retweeted_status_id  retweeted_status_user_id retweeted_status_timestamp  \\\n",
       "0                  NaN                       NaN                        NaN   \n",
       "\n",
       "                                                     expanded_urls  ... doggo  \\\n",
       "0  https://twitter.com/dog_rates/status/892420643555336193/photo/1  ...  None   \n",
       "\n",
       "  floofer pupper puppo rating rating_numerator  rating_denominator  year  \\\n",
       "0    None   None  None  13/10             13.0                  10  2017   \n",
       "\n",
       "   month  day  \n",
       "0      8    1  \n",
       "\n",
       "[1 rows x 21 columns]"
      ]
     },
     "execution_count": 41,
     "metadata": {},
     "output_type": "execute_result"
    }
   ],
   "source": [
    "df_clean.head(1)"
   ]
  },
  {
   "cell_type": "markdown",
   "metadata": {},
   "source": [
    "# ---------------------------------------------------------------------------------------\n",
    "***`twitter-archive-enhanced table` : Rename timestamp, year, month and day columns***"
   ]
  },
  {
   "cell_type": "markdown",
   "metadata": {},
   "source": [
    "#### Define\n",
    "\n",
    "We will preforming renaming process by using `rename()` method"
   ]
  },
  {
   "cell_type": "markdown",
   "metadata": {},
   "source": [
    "#### Code"
   ]
  },
  {
   "cell_type": "code",
   "execution_count": 42,
   "metadata": {},
   "outputs": [],
   "source": [
    "#timestamp, retweeted_status_timestamp, year, month and day\n",
    "df_clean = df_clean.rename(columns={\"timestamp\": \"tweet_date\", \"year\": \"tweet_year\", \n",
    "                                    \"month\":\"tweet_month\", \"day\":\"tweet_day\"})"
   ]
  },
  {
   "cell_type": "markdown",
   "metadata": {},
   "source": [
    "#### Test "
   ]
  },
  {
   "cell_type": "code",
   "execution_count": 43,
   "metadata": {
    "scrolled": true
   },
   "outputs": [
    {
     "data": {
      "text/plain": [
       "['tweet_id',\n",
       " 'in_reply_to_status_id',\n",
       " 'in_reply_to_user_id',\n",
       " 'tweet_date',\n",
       " 'source',\n",
       " 'text',\n",
       " 'retweeted_status_id',\n",
       " 'retweeted_status_user_id',\n",
       " 'retweeted_status_timestamp',\n",
       " 'expanded_urls',\n",
       " 'name',\n",
       " 'doggo',\n",
       " 'floofer',\n",
       " 'pupper',\n",
       " 'puppo',\n",
       " 'rating',\n",
       " 'rating_numerator',\n",
       " 'rating_denominator',\n",
       " 'tweet_year',\n",
       " 'tweet_month',\n",
       " 'tweet_day']"
      ]
     },
     "execution_count": 43,
     "metadata": {},
     "output_type": "execute_result"
    }
   ],
   "source": [
    "list(df_clean)"
   ]
  },
  {
   "cell_type": "markdown",
   "metadata": {},
   "source": [
    "# ---------------------------------------------------------------------------------------\n",
    "***`twitter-archive-enhanced table` : The tweet_id columns must be string not integer***"
   ]
  },
  {
   "cell_type": "markdown",
   "metadata": {},
   "source": [
    "### Define\n",
    "\n",
    "We will convert the tweet_id column type by using `astype()` method"
   ]
  },
  {
   "cell_type": "markdown",
   "metadata": {},
   "source": [
    "### Code"
   ]
  },
  {
   "cell_type": "code",
   "execution_count": 44,
   "metadata": {},
   "outputs": [],
   "source": [
    "df_clean.tweet_id = df_clean.tweet_id.astype('object')"
   ]
  },
  {
   "cell_type": "markdown",
   "metadata": {},
   "source": [
    "### Test "
   ]
  },
  {
   "cell_type": "code",
   "execution_count": 45,
   "metadata": {
    "tags": []
   },
   "outputs": [
    {
     "name": "stdout",
     "output_type": "stream",
     "text": [
      "<class 'pandas.core.frame.DataFrame'>\n",
      "Int64Index: 2330 entries, 0 to 2355\n",
      "Data columns (total 21 columns):\n",
      " #   Column                      Non-Null Count  Dtype  \n",
      "---  ------                      --------------  -----  \n",
      " 0   tweet_id                    2330 non-null   object \n",
      " 1   in_reply_to_status_id       71 non-null     float64\n",
      " 2   in_reply_to_user_id         71 non-null     float64\n",
      " 3   tweet_date                  2330 non-null   object \n",
      " 4   source                      2330 non-null   object \n",
      " 5   text                        2330 non-null   object \n",
      " 6   retweeted_status_id         180 non-null    float64\n",
      " 7   retweeted_status_user_id    180 non-null    float64\n",
      " 8   retweeted_status_timestamp  180 non-null    object \n",
      " 9   expanded_urls               2277 non-null   object \n",
      " 10  name                        2330 non-null   object \n",
      " 11  doggo                       2330 non-null   object \n",
      " 12  floofer                     2330 non-null   object \n",
      " 13  pupper                      2330 non-null   object \n",
      " 14  puppo                       2330 non-null   object \n",
      " 15  rating                      2330 non-null   object \n",
      " 16  rating_numerator            2330 non-null   float64\n",
      " 17  rating_denominator          2330 non-null   int64  \n",
      " 18  tweet_year                  2330 non-null   int64  \n",
      " 19  tweet_month                 2330 non-null   int64  \n",
      " 20  tweet_day                   2330 non-null   int64  \n",
      "dtypes: float64(5), int64(4), object(12)\n",
      "memory usage: 400.5+ KB\n"
     ]
    }
   ],
   "source": [
    "df_clean.info()"
   ]
  },
  {
   "cell_type": "markdown",
   "metadata": {},
   "source": [
    "# --------------------------------------------------------------------------------------\n",
    "***`twitter-archive-enhanced table` : Drop no dog names***"
   ]
  },
  {
   "cell_type": "markdown",
   "metadata": {},
   "source": [
    "### Define \n",
    "\n",
    "Some dog names are meaningful with lower letters, we will filtering this name by using the `isupper` method and keep just the names with capital letters "
   ]
  },
  {
   "cell_type": "markdown",
   "metadata": {},
   "source": [
    "### Code"
   ]
  },
  {
   "cell_type": "code",
   "execution_count": 46,
   "metadata": {
    "scrolled": true
   },
   "outputs": [],
   "source": [
    "df_clean['upper'] = df_clean['name'].apply(lambda x: x[0].isupper())\n",
    "df_clean = df_clean[df_clean.upper == True]"
   ]
  },
  {
   "cell_type": "markdown",
   "metadata": {},
   "source": [
    "### Test"
   ]
  },
  {
   "cell_type": "code",
   "execution_count": 47,
   "metadata": {},
   "outputs": [
    {
     "data": {
      "text/plain": [
       "array([ True])"
      ]
     },
     "execution_count": 47,
     "metadata": {},
     "output_type": "execute_result"
    }
   ],
   "source": [
    "df_clean.upper.unique()"
   ]
  },
  {
   "cell_type": "code",
   "execution_count": 48,
   "metadata": {},
   "outputs": [
    {
     "data": {
      "text/html": [
       "<div>\n",
       "<style scoped>\n",
       "    .dataframe tbody tr th:only-of-type {\n",
       "        vertical-align: middle;\n",
       "    }\n",
       "\n",
       "    .dataframe tbody tr th {\n",
       "        vertical-align: top;\n",
       "    }\n",
       "\n",
       "    .dataframe thead th {\n",
       "        text-align: right;\n",
       "    }\n",
       "</style>\n",
       "<table border=\"1\" class=\"dataframe\">\n",
       "  <thead>\n",
       "    <tr style=\"text-align: right;\">\n",
       "      <th></th>\n",
       "      <th>tweet_id</th>\n",
       "      <th>in_reply_to_status_id</th>\n",
       "      <th>in_reply_to_user_id</th>\n",
       "      <th>tweet_date</th>\n",
       "      <th>source</th>\n",
       "      <th>text</th>\n",
       "      <th>retweeted_status_id</th>\n",
       "      <th>retweeted_status_user_id</th>\n",
       "      <th>retweeted_status_timestamp</th>\n",
       "      <th>expanded_urls</th>\n",
       "      <th>...</th>\n",
       "      <th>floofer</th>\n",
       "      <th>pupper</th>\n",
       "      <th>puppo</th>\n",
       "      <th>rating</th>\n",
       "      <th>rating_numerator</th>\n",
       "      <th>rating_denominator</th>\n",
       "      <th>tweet_year</th>\n",
       "      <th>tweet_month</th>\n",
       "      <th>tweet_day</th>\n",
       "      <th>upper</th>\n",
       "    </tr>\n",
       "  </thead>\n",
       "  <tbody>\n",
       "  </tbody>\n",
       "</table>\n",
       "<p>0 rows × 22 columns</p>\n",
       "</div>"
      ],
      "text/plain": [
       "Empty DataFrame\n",
       "Columns: [tweet_id, in_reply_to_status_id, in_reply_to_user_id, tweet_date, source, text, retweeted_status_id, retweeted_status_user_id, retweeted_status_timestamp, expanded_urls, name, doggo, floofer, pupper, puppo, rating, rating_numerator, rating_denominator, tweet_year, tweet_month, tweet_day, upper]\n",
       "Index: []\n",
       "\n",
       "[0 rows x 22 columns]"
      ]
     },
     "execution_count": 48,
     "metadata": {},
     "output_type": "execute_result"
    }
   ],
   "source": [
    "# Try the find a name value which is \"a\"\n",
    "df_clean[df_clean.name == 'a']"
   ]
  },
  {
   "cell_type": "markdown",
   "metadata": {},
   "source": [
    "# --------------------------------------------------------------------------------------\n",
    "***`twitter-archive-enhanced table` : Drop useless columns***"
   ]
  },
  {
   "cell_type": "markdown",
   "metadata": {},
   "source": [
    "#### Define \n",
    "\n",
    "Same columns will not be using in any analysis, which mean must be deleting to get meaningful and useful table."
   ]
  },
  {
   "cell_type": "code",
   "execution_count": 49,
   "metadata": {},
   "outputs": [],
   "source": [
    "# dop this columns: 'source', 'in_reply_to_status_id', 'in_reply_to_user_id', 'retweeted_status_id', 'retweeted_status_user_id', 'expanded_urls'\n",
    "df_clean = df_clean.drop(['source','in_reply_to_status_id', 'in_reply_to_user_id', 'retweeted_status_timestamp', 'retweeted_status_id', \n",
    "                                                    'retweeted_status_user_id', 'expanded_urls', 'rating', 'rating_denominator', 'upper'], axis = 1)"
   ]
  },
  {
   "cell_type": "markdown",
   "metadata": {},
   "source": [
    "#### Test"
   ]
  },
  {
   "cell_type": "code",
   "execution_count": 50,
   "metadata": {},
   "outputs": [
    {
     "data": {
      "text/plain": [
       "['tweet_id',\n",
       " 'tweet_date',\n",
       " 'text',\n",
       " 'name',\n",
       " 'doggo',\n",
       " 'floofer',\n",
       " 'pupper',\n",
       " 'puppo',\n",
       " 'rating_numerator',\n",
       " 'tweet_year',\n",
       " 'tweet_month',\n",
       " 'tweet_day']"
      ]
     },
     "execution_count": 50,
     "metadata": {},
     "output_type": "execute_result"
    }
   ],
   "source": [
    "list(df_clean)"
   ]
  },
  {
   "cell_type": "markdown",
   "metadata": {},
   "source": [
    "# --------------------------------------------------------------------------------------\n",
    "***`Predict table` : Capital first letters for breeds dogs***"
   ]
  },
  {
   "cell_type": "markdown",
   "metadata": {},
   "source": [
    "#### Define\n",
    "\n",
    "Many names are capital letters and other not, we will use the `lower()` method"
   ]
  },
  {
   "cell_type": "markdown",
   "metadata": {},
   "source": [
    "#### Code "
   ]
  },
  {
   "cell_type": "code",
   "execution_count": 51,
   "metadata": {},
   "outputs": [],
   "source": [
    "#list of columns which we will apply the lower() method\n",
    "l_predict = ['p1', 'p2', 'p3']\n",
    "for ele in l_predict:\n",
    "    #we will a lambda function on values in each column\n",
    "    predict_clean[str(ele)] = predict_clean[str(ele)].apply(lambda x: x.lower())"
   ]
  },
  {
   "cell_type": "markdown",
   "metadata": {},
   "source": [
    "#### Test "
   ]
  },
  {
   "cell_type": "code",
   "execution_count": 52,
   "metadata": {},
   "outputs": [
    {
     "data": {
      "text/plain": [
       "1027                   dingo\n",
       "657                seat_belt\n",
       "266               pomeranian\n",
       "5       bernese_mountain_dog\n",
       "322       labrador_retriever\n",
       "651              triceratops\n",
       "1740                 samoyed\n",
       "1315                     pug\n",
       "1899              car_mirror\n",
       "1168          cocker_spaniel\n",
       "Name: p1, dtype: object"
      ]
     },
     "execution_count": 52,
     "metadata": {},
     "output_type": "execute_result"
    }
   ],
   "source": [
    "#test the predict_1 column as an example \n",
    "predict_clean.p1.sample(10)"
   ]
  },
  {
   "cell_type": "markdown",
   "metadata": {},
   "source": [
    "# --------------------------------------------------------------------------------------\n",
    "***`Predict table` : Underscore for many breed dogs names***"
   ]
  },
  {
   "cell_type": "markdown",
   "metadata": {},
   "source": [
    "#### Define\n",
    "\n",
    "Many breed dog names contain underscore, it's preferable to replace by space between 2 words, we will perform this task by using `replace()` method"
   ]
  },
  {
   "cell_type": "markdown",
   "metadata": {},
   "source": [
    "#### Code"
   ]
  },
  {
   "cell_type": "code",
   "execution_count": 53,
   "metadata": {},
   "outputs": [],
   "source": [
    "# we will use the l_predict list in the solution bellow \n",
    "for ele in l_predict:\n",
    "    predict_clean[str(ele)] = predict_clean[str(ele)].str.replace('_', ' ')"
   ]
  },
  {
   "cell_type": "markdown",
   "metadata": {},
   "source": [
    "#### Test "
   ]
  },
  {
   "cell_type": "code",
   "execution_count": 54,
   "metadata": {},
   "outputs": [
    {
     "data": {
      "text/plain": [
       "1177              malamute\n",
       "2059               whippet\n",
       "1838    norwegian elkhound\n",
       "284             guinea pig\n",
       "1362       standard poodle\n",
       "2020              pembroke\n",
       "1953                marmot\n",
       "759               malinois\n",
       "790                bighorn\n",
       "560                  teddy\n",
       "Name: p1, dtype: object"
      ]
     },
     "execution_count": 54,
     "metadata": {},
     "output_type": "execute_result"
    }
   ],
   "source": [
    "#test the predict_1 column as an example \n",
    "predict_clean.p1.sample(10)"
   ]
  },
  {
   "cell_type": "markdown",
   "metadata": {},
   "source": [
    "# --------------------------------------------------------------------------------------\n",
    "***`predict table` : Rounding float numbers***"
   ]
  },
  {
   "cell_type": "markdown",
   "metadata": {},
   "source": [
    "#### Define \n",
    "\n",
    "For more lisibity and comparability we will round the decimal part of `conf_predict` columns"
   ]
  },
  {
   "cell_type": "markdown",
   "metadata": {},
   "source": [
    "#### Code "
   ]
  },
  {
   "cell_type": "code",
   "execution_count": 55,
   "metadata": {},
   "outputs": [],
   "source": [
    "#creating a list of columns which we will round up \n",
    "l_conf = ['p1_conf', 'p2_conf', 'p3_conf']\n",
    "for ele in l_conf:\n",
    "    #round the values by using lambda function \n",
    "    predict_clean[str(ele)] = predict_clean[str(ele)].apply(lambda x: round(x, 2))"
   ]
  },
  {
   "cell_type": "markdown",
   "metadata": {},
   "source": [
    "#### Test"
   ]
  },
  {
   "cell_type": "code",
   "execution_count": 56,
   "metadata": {},
   "outputs": [
    {
     "data": {
      "text/plain": [
       "1389    1.00\n",
       "1679    0.91\n",
       "121     0.66\n",
       "1201    0.84\n",
       "1058    0.25\n",
       "Name: p1_conf, dtype: float64"
      ]
     },
     "execution_count": 56,
     "metadata": {},
     "output_type": "execute_result"
    }
   ],
   "source": [
    "predict_clean.p1_conf.sample(5)"
   ]
  },
  {
   "cell_type": "markdown",
   "metadata": {},
   "source": [
    "# --------------------------------------------------------------------------------------\n",
    "***`Predict table` : Convert the numbers to percentage format***"
   ]
  },
  {
   "cell_type": "markdown",
   "metadata": {},
   "source": [
    "#### Define \n",
    "\n",
    "For more readable values it's preferale to convert the percentage form by multipliant the values by 100"
   ]
  },
  {
   "cell_type": "markdown",
   "metadata": {},
   "source": [
    "#### Code "
   ]
  },
  {
   "cell_type": "code",
   "execution_count": 57,
   "metadata": {},
   "outputs": [],
   "source": [
    "#we will use the list of columns used above \n",
    "for ele in l_conf:\n",
    "    predict_clean[str(ele)] = predict_clean[str(ele)].apply(lambda x: int(x*100))"
   ]
  },
  {
   "cell_type": "markdown",
   "metadata": {},
   "source": [
    "#### Test "
   ]
  },
  {
   "cell_type": "code",
   "execution_count": 58,
   "metadata": {},
   "outputs": [
    {
     "data": {
      "text/plain": [
       "1864    51\n",
       "621     44\n",
       "162     37\n",
       "1813    73\n",
       "1425    37\n",
       "Name: p1_conf, dtype: int64"
      ]
     },
     "execution_count": 58,
     "metadata": {},
     "output_type": "execute_result"
    }
   ],
   "source": [
    "#get a sample of one of columns \n",
    "predict_clean.p1_conf.sample(5)"
   ]
  },
  {
   "cell_type": "markdown",
   "metadata": {},
   "source": [
    "# --------------------------------------------------------------------------------------\n",
    "***`Predict table` : The right predictions***"
   ]
  },
  {
   "cell_type": "markdown",
   "metadata": {},
   "source": [
    "#### Define\n",
    "\n",
    "We keep almost `predict_dog` columns which are True, by droping contain False values for `p1_dog` , `p2_dog` and `p3_dog` in the same rows"
   ]
  },
  {
   "cell_type": "markdown",
   "metadata": {},
   "source": [
    "#### Code"
   ]
  },
  {
   "cell_type": "code",
   "execution_count": 59,
   "metadata": {},
   "outputs": [],
   "source": [
    "# drop columns which had false values\n",
    "predict_clean = predict_clean.drop(predict_clean.loc[(predict_clean.p1_dog == False) \n",
    "                                                     & (predict_clean.p3_dog == False) \n",
    "                                                     & (predict_clean.p2_dog == False)].index, axis = 0)"
   ]
  },
  {
   "cell_type": "markdown",
   "metadata": {},
   "source": [
    "#### Test "
   ]
  },
  {
   "cell_type": "code",
   "execution_count": 60,
   "metadata": {},
   "outputs": [
    {
     "data": {
      "text/plain": [
       "tweet_id    0\n",
       "jpg_url     0\n",
       "img_num     0\n",
       "p1          0\n",
       "p1_conf     0\n",
       "p1_dog      0\n",
       "p2          0\n",
       "p2_conf     0\n",
       "p2_dog      0\n",
       "p3          0\n",
       "p3_conf     0\n",
       "p3_dog      0\n",
       "dtype: int64"
      ]
     },
     "execution_count": 60,
     "metadata": {},
     "output_type": "execute_result"
    }
   ],
   "source": [
    "predict_clean.loc[(predict_clean.p1_dog == False) & (predict_clean.p3_dog == False) \n",
    "                  & (predict_clean.p2_dog == False)].count()"
   ]
  },
  {
   "cell_type": "markdown",
   "metadata": {},
   "source": [
    "# --------------------------------------------------------------------------------------\n",
    "***`predict table` : The high right prediction percentage***"
   ]
  },
  {
   "cell_type": "markdown",
   "metadata": {},
   "source": [
    "#### Define\n",
    "\n",
    "Creating new column contain just the right prediction with high percentage by applying a filter for each table row"
   ]
  },
  {
   "cell_type": "markdown",
   "metadata": {},
   "source": [
    "#### Code "
   ]
  },
  {
   "cell_type": "code",
   "execution_count": 61,
   "metadata": {},
   "outputs": [],
   "source": [
    "# Define a new filtring function for each row \n",
    "def conf(a, b, c, x, y, z, m, n, o): \n",
    "    if a and x>=y and x>=z:\n",
    "        return m\n",
    "    elif b and y>=x and y>=z:\n",
    "        return n\n",
    "    elif c and z>=x and z>=y:\n",
    "        return o\n",
    "    elif a and b == False and c == False :\n",
    "        return m\n",
    "    elif b and a == False and c == False:\n",
    "        return n\n",
    "    elif c and a == False and b == False:\n",
    "        return o\n",
    "    elif b and c and a == False and y >= z :\n",
    "        return n\n",
    "    elif b and c and a == False and z >= y:\n",
    "        return o\n",
    "    \n",
    "#Apply the conf function for each row in predict table\n",
    "predict_clean['breed_dog'] = predict_clean.apply(lambda row : conf(row['p1_dog'], row['p2_dog'], \n",
    "                                                   row['p3_dog'], row['p1_conf'], row['p2_conf'], \n",
    "                                                   row['p3_conf'], row['p1'], row['p2'], row['p3']), axis = 1) "
   ]
  },
  {
   "cell_type": "markdown",
   "metadata": {},
   "source": [
    "#### Test "
   ]
  },
  {
   "cell_type": "code",
   "execution_count": 62,
   "metadata": {},
   "outputs": [
    {
     "data": {
      "text/plain": [
       "False    1751\n",
       "Name: breed_dog, dtype: int64"
      ]
     },
     "execution_count": 62,
     "metadata": {},
     "output_type": "execute_result"
    }
   ],
   "source": [
    "predict_clean.breed_dog.isnull().value_counts()"
   ]
  },
  {
   "cell_type": "markdown",
   "metadata": {},
   "source": [
    "# --------------------------------------------------------------------------------------\n",
    "***`predict table` : No need for source of JPG url***"
   ]
  },
  {
   "cell_type": "markdown",
   "metadata": {},
   "source": [
    "#### Define\n",
    "\n",
    "The link in jpg_url columns can be splited, just keeping the image name and format by using `split()` method"
   ]
  },
  {
   "cell_type": "markdown",
   "metadata": {},
   "source": [
    "#### Code "
   ]
  },
  {
   "cell_type": "code",
   "execution_count": 63,
   "metadata": {},
   "outputs": [],
   "source": [
    "predict_clean['dog_image'] = predict_clean.jpg_url.apply(lambda x: x.split('/')[-1])"
   ]
  },
  {
   "cell_type": "markdown",
   "metadata": {},
   "source": [
    "#### Test "
   ]
  },
  {
   "cell_type": "code",
   "execution_count": 64,
   "metadata": {},
   "outputs": [
    {
     "data": {
      "text/plain": [
       "389     CVhBLohWEAAXtYl.jpg\n",
       "1075    CfN23ArXEAEkZkz.jpg\n",
       "1105    CgiFjIpWgAA4wVp.jpg\n",
       "732     CYfCMdFWAAA44YA.jpg\n",
       "1612    Cx-itFWWIAAZu7l.jpg\n",
       "Name: dog_image, dtype: object"
      ]
     },
     "execution_count": 64,
     "metadata": {},
     "output_type": "execute_result"
    }
   ],
   "source": [
    "predict_clean.dog_image.sample(5)"
   ]
  },
  {
   "cell_type": "markdown",
   "metadata": {},
   "source": [
    "# --------------------------------------------------------------------------------------\n",
    "***`Predict table` : Drop useless columns***"
   ]
  },
  {
   "cell_type": "markdown",
   "metadata": {},
   "source": [
    "#### Define\n",
    "\n",
    "Drop columns using `drop()` method, but first check for this useless columns"
   ]
  },
  {
   "cell_type": "code",
   "execution_count": 65,
   "metadata": {
    "tags": []
   },
   "outputs": [
    {
     "name": "stdout",
     "output_type": "stream",
     "text": [
      "<class 'pandas.core.frame.DataFrame'>\n",
      "Int64Index: 2223 entries, 0 to 2355\n",
      "Data columns (total 12 columns):\n",
      " #   Column            Non-Null Count  Dtype  \n",
      "---  ------            --------------  -----  \n",
      " 0   tweet_id          2223 non-null   object \n",
      " 1   tweet_date        2223 non-null   object \n",
      " 2   text              2223 non-null   object \n",
      " 3   name              2223 non-null   object \n",
      " 4   doggo             2223 non-null   object \n",
      " 5   floofer           2223 non-null   object \n",
      " 6   pupper            2223 non-null   object \n",
      " 7   puppo             2223 non-null   object \n",
      " 8   rating_numerator  2223 non-null   float64\n",
      " 9   tweet_year        2223 non-null   int64  \n",
      " 10  tweet_month       2223 non-null   int64  \n",
      " 11  tweet_day         2223 non-null   int64  \n",
      "dtypes: float64(1), int64(3), object(8)\n",
      "memory usage: 225.8+ KB\n"
     ]
    }
   ],
   "source": [
    "df_clean.info()"
   ]
  },
  {
   "cell_type": "markdown",
   "metadata": {},
   "source": [
    "#### Code "
   ]
  },
  {
   "cell_type": "code",
   "execution_count": 66,
   "metadata": {},
   "outputs": [],
   "source": [
    "# where the most confident values is the the first prediction breed we will drop other prediction \n",
    "predict_clean = predict_clean.drop(['jpg_url', 'img_num','p1', 'p1_conf', 'p1_dog','p2', 'p2_conf', 'p2_dog', \n",
    "                                    'p3', 'p3_conf', 'p3_dog'], axis = 1)"
   ]
  },
  {
   "cell_type": "markdown",
   "metadata": {},
   "source": [
    "#### Test"
   ]
  },
  {
   "cell_type": "code",
   "execution_count": 67,
   "metadata": {},
   "outputs": [
    {
     "data": {
      "text/plain": [
       "['tweet_id', 'breed_dog', 'dog_image']"
      ]
     },
     "execution_count": 67,
     "metadata": {},
     "output_type": "execute_result"
    }
   ],
   "source": [
    "list(predict_clean)"
   ]
  },
  {
   "cell_type": "markdown",
   "metadata": {},
   "source": [
    "# --------------------------------------------------------------------------------------\n",
    "***`retweet table`: tweet_id column is a string***"
   ]
  },
  {
   "cell_type": "markdown",
   "metadata": {},
   "source": [
    "#### Define \n",
    "\n",
    "Convert tweet_id columns to integer by using `astype()` method"
   ]
  },
  {
   "cell_type": "markdown",
   "metadata": {},
   "source": [
    "#### Code "
   ]
  },
  {
   "cell_type": "code",
   "execution_count": 68,
   "metadata": {},
   "outputs": [],
   "source": [
    "retweet_clean['tweet_id'] = retweet_clean.tweet_id.astype('int64')"
   ]
  },
  {
   "cell_type": "markdown",
   "metadata": {},
   "source": [
    "#### Test "
   ]
  },
  {
   "cell_type": "code",
   "execution_count": 69,
   "metadata": {
    "tags": []
   },
   "outputs": [
    {
     "name": "stdout",
     "output_type": "stream",
     "text": [
      "<class 'pandas.core.frame.DataFrame'>\n",
      "RangeIndex: 2329 entries, 0 to 2328\n",
      "Data columns (total 3 columns):\n",
      " #   Column          Non-Null Count  Dtype\n",
      "---  ------          --------------  -----\n",
      " 0   tweet_id        2329 non-null   int64\n",
      " 1   favorite_count  2329 non-null   int64\n",
      " 2   retweet_count   2329 non-null   int64\n",
      "dtypes: int64(3)\n",
      "memory usage: 54.7 KB\n"
     ]
    }
   ],
   "source": [
    "retweet_clean.info()"
   ]
  },
  {
   "cell_type": "markdown",
   "metadata": {},
   "source": [
    "# --------------------------------------------------------------------------------------\n",
    "### ***Tidiness issues***\n",
    "# --------------------------------------------------------------------------------------"
   ]
  },
  {
   "cell_type": "markdown",
   "metadata": {},
   "source": [
    "***`twitter-archive-enhanced table`: Merging doggo, floofer, pupper, puppo columns to one column***"
   ]
  },
  {
   "cell_type": "markdown",
   "metadata": {},
   "source": [
    "#### Define \n",
    "\n"
   ]
  },
  {
   "cell_type": "markdown",
   "metadata": {},
   "source": [
    "We will merging doggo, floofer, pupper, puppo columns to one column by checking the 4 columns values and creating new stage column with all columns contain values"
   ]
  },
  {
   "cell_type": "markdown",
   "metadata": {},
   "source": [
    "#### Code "
   ]
  },
  {
   "cell_type": "code",
   "execution_count": 70,
   "metadata": {},
   "outputs": [
    {
     "data": {
      "text/html": [
       "<div>\n",
       "<style scoped>\n",
       "    .dataframe tbody tr th:only-of-type {\n",
       "        vertical-align: middle;\n",
       "    }\n",
       "\n",
       "    .dataframe tbody tr th {\n",
       "        vertical-align: top;\n",
       "    }\n",
       "\n",
       "    .dataframe thead th {\n",
       "        text-align: right;\n",
       "    }\n",
       "</style>\n",
       "<table border=\"1\" class=\"dataframe\">\n",
       "  <thead>\n",
       "    <tr style=\"text-align: right;\">\n",
       "      <th></th>\n",
       "      <th>doggo</th>\n",
       "      <th>floofer</th>\n",
       "      <th>pupper</th>\n",
       "      <th>puppo</th>\n",
       "      <th>count</th>\n",
       "    </tr>\n",
       "  </thead>\n",
       "  <tbody>\n",
       "    <tr>\n",
       "      <th>0</th>\n",
       "      <td>None</td>\n",
       "      <td>None</td>\n",
       "      <td>None</td>\n",
       "      <td>None</td>\n",
       "      <td>1859</td>\n",
       "    </tr>\n",
       "    <tr>\n",
       "      <th>1</th>\n",
       "      <td>None</td>\n",
       "      <td>None</td>\n",
       "      <td>None</td>\n",
       "      <td>puppo</td>\n",
       "      <td>29</td>\n",
       "    </tr>\n",
       "    <tr>\n",
       "      <th>2</th>\n",
       "      <td>None</td>\n",
       "      <td>None</td>\n",
       "      <td>pupper</td>\n",
       "      <td>None</td>\n",
       "      <td>233</td>\n",
       "    </tr>\n",
       "    <tr>\n",
       "      <th>3</th>\n",
       "      <td>None</td>\n",
       "      <td>floofer</td>\n",
       "      <td>None</td>\n",
       "      <td>None</td>\n",
       "      <td>9</td>\n",
       "    </tr>\n",
       "    <tr>\n",
       "      <th>4</th>\n",
       "      <td>doggo</td>\n",
       "      <td>None</td>\n",
       "      <td>None</td>\n",
       "      <td>None</td>\n",
       "      <td>81</td>\n",
       "    </tr>\n",
       "    <tr>\n",
       "      <th>5</th>\n",
       "      <td>doggo</td>\n",
       "      <td>None</td>\n",
       "      <td>None</td>\n",
       "      <td>puppo</td>\n",
       "      <td>1</td>\n",
       "    </tr>\n",
       "    <tr>\n",
       "      <th>6</th>\n",
       "      <td>doggo</td>\n",
       "      <td>None</td>\n",
       "      <td>pupper</td>\n",
       "      <td>None</td>\n",
       "      <td>10</td>\n",
       "    </tr>\n",
       "    <tr>\n",
       "      <th>7</th>\n",
       "      <td>doggo</td>\n",
       "      <td>floofer</td>\n",
       "      <td>None</td>\n",
       "      <td>None</td>\n",
       "      <td>1</td>\n",
       "    </tr>\n",
       "  </tbody>\n",
       "</table>\n",
       "</div>"
      ],
      "text/plain": [
       "   doggo  floofer  pupper  puppo  count\n",
       "0   None     None    None   None   1859\n",
       "1   None     None    None  puppo     29\n",
       "2   None     None  pupper   None    233\n",
       "3   None  floofer    None   None      9\n",
       "4  doggo     None    None   None     81\n",
       "5  doggo     None    None  puppo      1\n",
       "6  doggo     None  pupper   None     10\n",
       "7  doggo  floofer    None   None      1"
      ]
     },
     "execution_count": 70,
     "metadata": {},
     "output_type": "execute_result"
    }
   ],
   "source": [
    "df_clean.groupby([\"doggo\", \"floofer\", \"pupper\", \"puppo\"]).size().reset_index().rename(columns={0: \"count\"})"
   ]
  },
  {
   "cell_type": "code",
   "execution_count": 71,
   "metadata": {},
   "outputs": [],
   "source": [
    "# convert None or NaN values by empty value\n",
    "df_clean.doggo.replace('None', '', inplace=True)\n",
    "df_clean.doggo.replace('np.NaN', '', inplace=True)\n",
    "df_clean.floofer.replace('None', '', inplace=True)\n",
    "df_clean.floofer.replace('np.NaN', '', inplace=True)\n",
    "df_clean.pupper.replace('None', '', inplace=True)\n",
    "df_clean.pupper.replace('np.NaN', '', inplace=True)\n",
    "df_clean.puppo.replace('None', '', inplace=True)\n",
    "df_clean.puppo.replace('np.NaN', '', inplace=True)"
   ]
  },
  {
   "cell_type": "code",
   "execution_count": 72,
   "metadata": {},
   "outputs": [],
   "source": [
    "# create stage column assembeling the 4 columns stages \n",
    "df_clean['stage'] = df_clean.doggo + df_clean.floofer + df_clean.pupper + df_clean.puppo\n",
    "df_clean.loc[df_clean.stage == 'doggopupper', 'stage'] = 'doggo, pupper'\n",
    "df_clean.loc[df_clean.stage == 'doggopuppo', 'stage'] = 'doggo, puppo'\n",
    "df_clean.loc[df_clean.stage == 'doggofloofer', 'stage'] = 'doggo, floofer'"
   ]
  },
  {
   "cell_type": "code",
   "execution_count": 73,
   "metadata": {},
   "outputs": [],
   "source": [
    "df_clean = df_clean.drop(['doggo', 'floofer', 'pupper', 'puppo'], axis = 1)"
   ]
  },
  {
   "cell_type": "markdown",
   "metadata": {},
   "source": [
    "#### Test"
   ]
  },
  {
   "cell_type": "code",
   "execution_count": 74,
   "metadata": {},
   "outputs": [
    {
     "data": {
      "text/plain": [
       "                  1859\n",
       "pupper             233\n",
       "doggo               81\n",
       "puppo               29\n",
       "doggo, pupper       10\n",
       "floofer              9\n",
       "doggo, floofer       1\n",
       "doggo, puppo         1\n",
       "Name: stage, dtype: int64"
      ]
     },
     "execution_count": 74,
     "metadata": {},
     "output_type": "execute_result"
    }
   ],
   "source": [
    "df_clean.stage.value_counts()"
   ]
  },
  {
   "cell_type": "markdown",
   "metadata": {},
   "source": [
    "# --------------------------------------------------------------------------------------\n",
    "***Assembling many parts of 3 tables in same table***"
   ]
  },
  {
   "cell_type": "markdown",
   "metadata": {},
   "source": [
    "#### Define \n",
    "\n",
    "Merging df_clean, predict_clean, retweet_clean tables on one dataset "
   ]
  },
  {
   "cell_type": "markdown",
   "metadata": {},
   "source": [
    "#### Code "
   ]
  },
  {
   "cell_type": "code",
   "execution_count": 75,
   "metadata": {},
   "outputs": [],
   "source": [
    "#left merging df_clean and predict_clean on tweet_id\n",
    "dog_rates_1 = pd.merge(df_clean, predict_clean, how = 'left', on = ['tweet_id'])\n",
    "\n",
    "#left merging dog_rates_1 and retweet_clean on tweet_id \n",
    "dog_rates = pd.merge(dog_rates_1, retweet_clean, how = 'left', on = ['tweet_id'])"
   ]
  },
  {
   "cell_type": "markdown",
   "metadata": {},
   "source": [
    "#### Test "
   ]
  },
  {
   "cell_type": "code",
   "execution_count": 76,
   "metadata": {},
   "outputs": [
    {
     "data": {
      "text/html": [
       "<div>\n",
       "<style scoped>\n",
       "    .dataframe tbody tr th:only-of-type {\n",
       "        vertical-align: middle;\n",
       "    }\n",
       "\n",
       "    .dataframe tbody tr th {\n",
       "        vertical-align: top;\n",
       "    }\n",
       "\n",
       "    .dataframe thead th {\n",
       "        text-align: right;\n",
       "    }\n",
       "</style>\n",
       "<table border=\"1\" class=\"dataframe\">\n",
       "  <thead>\n",
       "    <tr style=\"text-align: right;\">\n",
       "      <th></th>\n",
       "      <th>tweet_id</th>\n",
       "      <th>tweet_date</th>\n",
       "      <th>text</th>\n",
       "      <th>name</th>\n",
       "      <th>rating_numerator</th>\n",
       "      <th>tweet_year</th>\n",
       "      <th>tweet_month</th>\n",
       "      <th>tweet_day</th>\n",
       "      <th>stage</th>\n",
       "      <th>breed_dog</th>\n",
       "      <th>dog_image</th>\n",
       "      <th>favorite_count</th>\n",
       "      <th>retweet_count</th>\n",
       "    </tr>\n",
       "  </thead>\n",
       "  <tbody>\n",
       "    <tr>\n",
       "      <th>0</th>\n",
       "      <td>892420643555336193</td>\n",
       "      <td>2017-08-01</td>\n",
       "      <td>This is Phineas. He's a mystical boy. Only ever appears in the hole of a donut. 13/10 https://t.co/MgUWQ76dJU</td>\n",
       "      <td>Phineas</td>\n",
       "      <td>13.0</td>\n",
       "      <td>2017</td>\n",
       "      <td>8</td>\n",
       "      <td>1</td>\n",
       "      <td></td>\n",
       "      <td>NaN</td>\n",
       "      <td>NaN</td>\n",
       "      <td>36116.0</td>\n",
       "      <td>7693.0</td>\n",
       "    </tr>\n",
       "  </tbody>\n",
       "</table>\n",
       "</div>"
      ],
      "text/plain": [
       "             tweet_id  tweet_date  \\\n",
       "0  892420643555336193  2017-08-01   \n",
       "\n",
       "                                                                                                            text  \\\n",
       "0  This is Phineas. He's a mystical boy. Only ever appears in the hole of a donut. 13/10 https://t.co/MgUWQ76dJU   \n",
       "\n",
       "      name  rating_numerator  tweet_year  tweet_month  tweet_day stage  \\\n",
       "0  Phineas              13.0        2017            8          1         \n",
       "\n",
       "  breed_dog dog_image  favorite_count  retweet_count  \n",
       "0       NaN       NaN         36116.0         7693.0  "
      ]
     },
     "execution_count": 76,
     "metadata": {},
     "output_type": "execute_result"
    }
   ],
   "source": [
    "dog_rates.head(1)"
   ]
  },
  {
   "cell_type": "markdown",
   "metadata": {},
   "source": [
    "> It's preferable to store the data in a csv dataset"
   ]
  },
  {
   "cell_type": "code",
   "execution_count": 78,
   "metadata": {},
   "outputs": [],
   "source": [
    "dog_rates.to_csv('twitter_archive_master.csv', index=False, encoding = 'utf-8')"
   ]
  },
  {
   "cell_type": "markdown",
   "metadata": {},
   "source": [
    "# ---------------------------------------------------------------------------------------\n",
    "<a id=\"ana\"></a> \n",
    "## **Analysing DATA**\n",
    "# ---------------------------------------------------------------------------------------"
   ]
  },
  {
   "cell_type": "code",
   "execution_count": 79,
   "metadata": {},
   "outputs": [
    {
     "data": {
      "text/html": [
       "<div>\n",
       "<style scoped>\n",
       "    .dataframe tbody tr th:only-of-type {\n",
       "        vertical-align: middle;\n",
       "    }\n",
       "\n",
       "    .dataframe tbody tr th {\n",
       "        vertical-align: top;\n",
       "    }\n",
       "\n",
       "    .dataframe thead th {\n",
       "        text-align: right;\n",
       "    }\n",
       "</style>\n",
       "<table border=\"1\" class=\"dataframe\">\n",
       "  <thead>\n",
       "    <tr style=\"text-align: right;\">\n",
       "      <th></th>\n",
       "      <th>tweet_id</th>\n",
       "      <th>tweet_date</th>\n",
       "      <th>text</th>\n",
       "      <th>name</th>\n",
       "      <th>rating_numerator</th>\n",
       "      <th>tweet_year</th>\n",
       "      <th>tweet_month</th>\n",
       "      <th>tweet_day</th>\n",
       "      <th>stage</th>\n",
       "      <th>breed_dog</th>\n",
       "      <th>dog_image</th>\n",
       "      <th>favorite_count</th>\n",
       "      <th>retweet_count</th>\n",
       "    </tr>\n",
       "  </thead>\n",
       "  <tbody>\n",
       "    <tr>\n",
       "      <th>0</th>\n",
       "      <td>892420643555336193</td>\n",
       "      <td>2017-08-01</td>\n",
       "      <td>This is Phineas. He's a mystical boy. Only ever appears in the hole of a donut. 13/10 https://t.co/MgUWQ76dJU</td>\n",
       "      <td>Phineas</td>\n",
       "      <td>13.0</td>\n",
       "      <td>2017</td>\n",
       "      <td>8</td>\n",
       "      <td>1</td>\n",
       "      <td>NaN</td>\n",
       "      <td>NaN</td>\n",
       "      <td>NaN</td>\n",
       "      <td>36116.0</td>\n",
       "      <td>7693.0</td>\n",
       "    </tr>\n",
       "  </tbody>\n",
       "</table>\n",
       "</div>"
      ],
      "text/plain": [
       "             tweet_id  tweet_date  \\\n",
       "0  892420643555336193  2017-08-01   \n",
       "\n",
       "                                                                                                            text  \\\n",
       "0  This is Phineas. He's a mystical boy. Only ever appears in the hole of a donut. 13/10 https://t.co/MgUWQ76dJU   \n",
       "\n",
       "      name  rating_numerator  tweet_year  tweet_month  tweet_day stage  \\\n",
       "0  Phineas              13.0        2017            8          1   NaN   \n",
       "\n",
       "  breed_dog dog_image  favorite_count  retweet_count  \n",
       "0       NaN       NaN         36116.0         7693.0  "
      ]
     },
     "execution_count": 79,
     "metadata": {},
     "output_type": "execute_result"
    }
   ],
   "source": [
    "df_twt = pd.read_csv('twitter_archive_master.csv')\n",
    "df_twt.head(1)"
   ]
  },
  {
   "cell_type": "code",
   "execution_count": 80,
   "metadata": {},
   "outputs": [
    {
     "name": "stdout",
     "output_type": "stream",
     "text": [
      "<class 'pandas.core.frame.DataFrame'>\n",
      "RangeIndex: 2223 entries, 0 to 2222\n",
      "Data columns (total 13 columns):\n",
      " #   Column            Non-Null Count  Dtype  \n",
      "---  ------            --------------  -----  \n",
      " 0   tweet_id          2223 non-null   int64  \n",
      " 1   tweet_date        2223 non-null   object \n",
      " 2   text              2223 non-null   object \n",
      " 3   name              2223 non-null   object \n",
      " 4   rating_numerator  2223 non-null   float64\n",
      " 5   tweet_year        2223 non-null   int64  \n",
      " 6   tweet_month       2223 non-null   int64  \n",
      " 7   tweet_day         2223 non-null   int64  \n",
      " 8   stage             364 non-null    object \n",
      " 9   breed_dog         1655 non-null   object \n",
      " 10  dog_image         1655 non-null   object \n",
      " 11  favorite_count    2198 non-null   float64\n",
      " 12  retweet_count     2198 non-null   float64\n",
      "dtypes: float64(3), int64(4), object(6)\n",
      "memory usage: 225.9+ KB\n"
     ]
    }
   ],
   "source": [
    "df_twt.info()"
   ]
  },
  {
   "cell_type": "markdown",
   "metadata": {},
   "source": [
    "We change `tweet_date` column type to datetime "
   ]
  },
  {
   "cell_type": "code",
   "execution_count": 81,
   "metadata": {},
   "outputs": [],
   "source": [
    "# convert tweet_date to date \n",
    "df_twt['tweet_date'] = df_twt.tweet_date.astype('datetime64')"
   ]
  },
  {
   "cell_type": "markdown",
   "metadata": {},
   "source": [
    "# ---------------------------------------------------------------------------------------\n",
    "#### ***Insight one***\n",
    "\n",
    "The most popular breed dog "
   ]
  },
  {
   "cell_type": "code",
   "execution_count": 85,
   "metadata": {},
   "outputs": [
    {
     "data": {
      "image/png": "[encoded data removed]",
      "text/plain": [
       "<Figure size 864x576 with 1 Axes>"
      ]
     },
     "metadata": {
      "needs_background": "light"
     },
     "output_type": "display_data"
    }
   ],
   "source": [
    "# grouping by breed_dog column and return the number of items in this grouped dataframe by dog breed \n",
    "popular_breed = df_twt.groupby('breed_dog').filter(lambda x: len(x) >= 40)\n",
    "\n",
    "# plotting the value counting ascending of most popular dog breed\n",
    "count_breed = popular_breed.breed_dog.value_counts(ascending = True)\n",
    "count_breed.plot(kind = 'barh', figsize = [12, 8])\n",
    "\n",
    "#display values for each bar\n",
    "for index, value in enumerate(count_breed):\n",
    "    plt.text(value, index, str(value))\n",
    "    \n",
    "plt.title('The most popular dog breed', fontsize = 16)\n",
    "plt.xlabel('Number of breeds tweeted in dataset', fontsize = 14)\n",
    "plt.ylabel('Breed of dog', fontsize = 14)\n",
    "plt.xlim(0, 175) # limiting the X axis on 175 \n",
    "\n",
    "# exporting the horizontal bar plot on png format \n",
    "plt.savefig('popular_breed.png', bbox_inches='tight');"
   ]
  },
  {
   "cell_type": "markdown",
   "metadata": {},
   "source": [
    "> #### **As we can see, the most popular breed dog for @dog_rates page users is `Golden retriever`**"
   ]
  },
  {
   "cell_type": "markdown",
   "metadata": {},
   "source": [
    "# ---------------------------------------------------------------------------------------\n",
    "#### ***Insight two***\n",
    "\n",
    "The dog breed get the most high retweet"
   ]
  },
  {
   "cell_type": "code",
   "execution_count": 86,
   "metadata": {},
   "outputs": [
    {
     "data": {
      "image/png": "[encoded data removed]",
      "text/plain": [
       "<Figure size 864x576 with 1 Axes>"
      ]
     },
     "metadata": {
      "needs_background": "light"
     },
     "output_type": "display_data"
    }
   ],
   "source": [
    "# choose the 10 hight retweeted breed dogs \n",
    "high_retweet = df_twt.groupby('breed_dog').retweet_count.mean().round(2).sort_values(ascending = False).iloc[:10]\n",
    "\n",
    "# plotting the high retweeted breed\n",
    "high_retweet.plot(kind='barh', figsize=[12, 8])\n",
    "\n",
    "# adding the text values to each bar in chart \n",
    "for index, value in enumerate(high_retweet):\n",
    "    plt.text(value, index, float(value))\n",
    "\n",
    "plt.title('The most retweeted dog breed', fontsize = 16) \n",
    "plt.xlabel('Retweet mean', fontsize = 14)\n",
    "plt.ylabel('Dog breeds', fontsize = 14)\n",
    "plt.xlim(0, 8500) # limiting the X-axis on 8500 \n",
    "\n",
    "# exporting the bar plot on png format \n",
    "plt.savefig('high_retweet_breed.png', bbox_inches='tight');"
   ]
  },
  {
   "cell_type": "markdown",
   "metadata": {},
   "source": [
    "> #### **As we can see, the most retweeted breed dog for @dog_rates page users is `Standard poodle`**"
   ]
  },
  {
   "cell_type": "markdown",
   "metadata": {},
   "source": [
    "# ---------------------------------------------------------------------------------------\n",
    "#### ***Insight three***\n",
    "\n",
    "The dog breed get the most high favorite counting"
   ]
  },
  {
   "cell_type": "code",
   "execution_count": 87,
   "metadata": {},
   "outputs": [
    {
     "data": {
      "image/png": "[encoded data removed]",
      "text/plain": [
       "<Figure size 864x576 with 1 Axes>"
      ]
     },
     "metadata": {
      "needs_background": "light"
     },
     "output_type": "display_data"
    }
   ],
   "source": [
    "# choose the 10 hight favorited breed dogs \n",
    "high_favorite = df_twt.groupby('breed_dog').favorite_count.mean().round(2).sort_values(ascending = False).iloc[:10]\n",
    "\n",
    "# plotting the high retweeted breed\n",
    "high_favorite.plot(kind='barh', figsize=[12, 8])\n",
    "\n",
    "# adding the text values to each bar in chart\n",
    "for index, value in enumerate(high_favorite):\n",
    "    plt.text(value, index, float(value))\n",
    "    \n",
    "    \n",
    "plt.title('The most favorite dog breed', fontsize = 16)\n",
    "plt.xlabel('Dog breeds', fontsize = 14)\n",
    "plt.ylabel('Favorite count', fontsize = 14)\n",
    "plt.xlim(0, 33500) # limiting the Y-axis on 33500 \n",
    "\n",
    "# exporting the bar plot on png format \n",
    "plt.savefig('high_favorite_breed.png', bbox_inches='tight');"
   ]
  },
  {
   "cell_type": "markdown",
   "metadata": {},
   "source": [
    "> #### **As we can see, the most favorited breed dog for @dog_rates page users is `Bedlington terrier`**"
   ]
  },
  {
   "cell_type": "markdown",
   "metadata": {},
   "source": [
    "# ---------------------------------------------------------------------------------------\n",
    "#### ***Insight four***\n",
    "\n",
    "The correlation between favorite count and retweet count for breed dogs "
   ]
  },
  {
   "cell_type": "code",
   "execution_count": 88,
   "metadata": {},
   "outputs": [
    {
     "data": {
      "image/png": "[encoded data removed]",
      "text/plain": [
       "<Figure size 640x640 with 1 Axes>"
      ]
     },
     "metadata": {
      "needs_background": "light"
     },
     "output_type": "display_data"
    }
   ],
   "source": [
    "# getting the mean of retweet by breed dog \n",
    "high_retweet2 = df_twt.groupby('breed_dog').retweet_count.mean()\n",
    "\n",
    "# getting the mean of favorite by breed dog \n",
    "high_favorite2 = df_twt.groupby('breed_dog').favorite_count.mean()\n",
    "\n",
    "# set up the figure size of plotting \n",
    "plt.figure(figsize=(8, 8), dpi=80)\n",
    "\n",
    "#plotting the scatter chart of two variables\n",
    "plt.scatter(x=high_retweet2, y=high_favorite2)\n",
    "\n",
    "plt.title('The corellation between retweet count and favorite ', fontsize = 16)\n",
    "plt.xlabel('Retweet count', fontsize = 14)\n",
    "plt.ylabel('Favorite count', fontsize = 14)\n",
    "plt.xlim(0, 9000) # limiting the X axis on 9000 \n",
    "plt.ylim(0, 30000) # limiting the  axis on 30000 \n",
    "\n",
    "# exporting the bar plot on png format \n",
    "plt.savefig('retweet_favorite_correlation.png', bbox_inches='tight');"
   ]
  },
  {
   "cell_type": "markdown",
   "metadata": {},
   "source": [
    "> #### **The favorite count and retweet count had a positive correlation for almost values, which is logical insight**"
   ]
  },
  {
   "cell_type": "markdown",
   "metadata": {},
   "source": [
    "# ---------------------------------------------------------------------------------------\n",
    "#### ***Insight five***\n",
    "\n",
    "The most used rating for all tweets"
   ]
  },
  {
   "cell_type": "code",
   "execution_count": 89,
   "metadata": {},
   "outputs": [
    {
     "data": {
      "image/png": "[encoded data removed]",
      "text/plain": [
       "<Figure size 864x576 with 1 Axes>"
      ]
     },
     "metadata": {
      "needs_background": "light"
     },
     "output_type": "display_data"
    }
   ],
   "source": [
    "# get the rating count \n",
    "com_rate = df_twt.groupby('rating_numerator').tweet_id.count().sort_values(ascending=True)\n",
    "\n",
    "com_rate.plot(kind='barh', figsize=[12, 8])\n",
    "\n",
    "for index, value in enumerate(com_rate):\n",
    "    plt.text(value, index, float(value))\n",
    "    \n",
    "plt.title('The most rating used', fontsize = 16)\n",
    "plt.xlabel('Tweet count', fontsize = 14)\n",
    "plt.ylabel('Rating', fontsize = 14)\n",
    "plt.xlim(0, 600)# limiting the X-axis on 600\n",
    "\n",
    "# exporting the bar plot on png format \n",
    "plt.savefig('most_used_rate.png', bbox_inches='tight');"
   ]
  },
  {
   "cell_type": "markdown",
   "metadata": {},
   "source": [
    "> #### **For @dog_rates page users, the most used rating for breed dog is `12` followed by `11`and `10`, which mean almost of the users use a moderate rating**"
   ]
  },
  {
   "cell_type": "markdown",
   "metadata": {},
   "source": [
    "# ---------------------------------------------------------------------------------------\n",
    "#### ***Insight six***\n",
    "\n",
    "Variation of tweet_id count, favorit_count, retweet_count values during the year"
   ]
  },
  {
   "cell_type": "code",
   "execution_count": 90,
   "metadata": {},
   "outputs": [
    {
     "data": {
      "text/html": [
       "<div>\n",
       "<style scoped>\n",
       "    .dataframe tbody tr th:only-of-type {\n",
       "        vertical-align: middle;\n",
       "    }\n",
       "\n",
       "    .dataframe tbody tr th {\n",
       "        vertical-align: top;\n",
       "    }\n",
       "\n",
       "    .dataframe thead th {\n",
       "        text-align: right;\n",
       "    }\n",
       "</style>\n",
       "<table border=\"1\" class=\"dataframe\">\n",
       "  <thead>\n",
       "    <tr style=\"text-align: right;\">\n",
       "      <th></th>\n",
       "      <th>month</th>\n",
       "      <th>num_twt</th>\n",
       "      <th>fav_mean</th>\n",
       "      <th>retweet_mean</th>\n",
       "    </tr>\n",
       "  </thead>\n",
       "  <tbody>\n",
       "    <tr>\n",
       "      <th>0</th>\n",
       "      <td>January</td>\n",
       "      <td>279</td>\n",
       "      <td>6743.139785</td>\n",
       "      <td>2884.620072</td>\n",
       "    </tr>\n",
       "    <tr>\n",
       "      <th>1</th>\n",
       "      <td>February</td>\n",
       "      <td>201</td>\n",
       "      <td>7505.025126</td>\n",
       "      <td>2504.386935</td>\n",
       "    </tr>\n",
       "    <tr>\n",
       "      <th>2</th>\n",
       "      <td>March</td>\n",
       "      <td>199</td>\n",
       "      <td>7730.432990</td>\n",
       "      <td>2467.520619</td>\n",
       "    </tr>\n",
       "    <tr>\n",
       "      <th>3</th>\n",
       "      <td>April</td>\n",
       "      <td>112</td>\n",
       "      <td>10323.563636</td>\n",
       "      <td>2788.727273</td>\n",
       "    </tr>\n",
       "  </tbody>\n",
       "</table>\n",
       "</div>"
      ],
      "text/plain": [
       "      month  num_twt      fav_mean  retweet_mean\n",
       "0   January      279   6743.139785   2884.620072\n",
       "1  February      201   7505.025126   2504.386935\n",
       "2     March      199   7730.432990   2467.520619\n",
       "3     April      112  10323.563636   2788.727273"
      ]
     },
     "execution_count": 90,
     "metadata": {},
     "output_type": "execute_result"
    }
   ],
   "source": [
    "#Creation a data frame of tweet_id, favorite_count, retweet_count and months\n",
    "num_twt = list(df_twt.groupby('tweet_month').tweet_id.count().values) #the number of tweet in each month \n",
    "fav_mean = list(df_twt.groupby('tweet_month').favorite_count.mean().values) #the mean of favorite count in each month \n",
    "retweet_mean = list(df_twt.groupby('tweet_month').retweet_count.mean().values) #the mean of retweet count in each month \n",
    "month = ['January', 'February', 'March', 'April', 'May', 'June', 'July', 'August', \n",
    "         'September', 'October', 'November', 'December'] \n",
    "\n",
    "df_month = pd.DataFrame({'month':month, 'num_twt':num_twt, 'fav_mean':fav_mean, 'retweet_mean':retweet_mean}) # preforming the creation of data frame\n",
    "df_month.head(4)"
   ]
  },
  {
   "cell_type": "code",
   "execution_count": 91,
   "metadata": {},
   "outputs": [
    {
     "data": {
      "image/png": "[encoded data removed]",
      "text/plain": [
       "<Figure size 864x576 with 2 Axes>"
      ]
     },
     "metadata": {
      "needs_background": "light"
     },
     "output_type": "display_data"
    }
   ],
   "source": [
    "# create combo chart\n",
    "fig, ax1 = plt.subplots(figsize=(12,8))\n",
    "\n",
    "#bar plot creation\n",
    "ax1.set_title('Tweet count, favorite average and retweet average by Month', fontsize=16)\n",
    "ax1.set_xlabel('Month', fontsize=16)\n",
    "ax1.set_ylabel('Number of tweets', fontsize=16)\n",
    "ax1.bar(df_month.month, df_month.num_twt) #creating bar chart\n",
    "ax1.tick_params(axis='y') #change the appearance of ticks, tick labels, and gridlines\n",
    "\n",
    "#specify we want to share the same x-axis\n",
    "ax2 = ax1.twinx()\n",
    "\n",
    "#line plot creation\n",
    "ax2.set_ylabel('Favorite/Retweet AVG', fontsize=16)\n",
    "ax2.plot(df_month.month, df_month.fav_mean, color = 'red', marker='o', label = 'Favorite AVG') #creating line chart\n",
    "ax2.plot(df_month.month, df_month.retweet_mean, color = 'orange', marker='o', label = 'Retweet AVG') #creating line chart\n",
    "ax2.tick_params(axis='y')\n",
    "plt.legend(loc='upper left', fontsize= 12)\n",
    "plt.ylim(0, 16000) #limiting y-axis to 16000\n",
    "\n",
    "# exporting the bar plot on png format \n",
    "plt.savefig('variation_month.png', bbox_inches='tight');"
   ]
  },
  {
   "cell_type": "markdown",
   "metadata": {},
   "source": [
    "> #### **The `Number of tweets` of @dog_rates page users rise in novembre and december months, almost months the number of tweets is under 300 tweet for each month. But the `Favorite average` and `Retweet average` increase for almost the months and decrease for november and december even the number of tweets increase.**"
   ]
  },
  {
   "cell_type": "markdown",
   "metadata": {},
   "source": [
    "# --------------------------------------------------------------------------------------\n",
    "<a id=\"conclusion\"></a> \n",
    "## **Conclusion**"
   ]
  },
  {
   "cell_type": "markdown",
   "metadata": {},
   "source": [
    "This project is for data wrangling and data analysis for the @dog_rates Twitter account.\n",
    "\n",
    "First, data gathering process resume three tasks, start by downloading TSV file, gathering data from twitter API and gathering data from json file. After creating data frames from the this sources and loading the given enhanced archive data frame  to Jupyter Notebook.\n",
    "\n",
    "Second, using the data gathered, we assessed 20 issues in total and documented it for modifications. Later, in data cleaning process we fixed all identified issues by add some missing data and cleaning some structured issues also merged separated data frame into one. Finaly, stored data frame in twitter_archive_master.csv.\n",
    "\n",
    "Third, the data analysis process, we interpreted the got data from cleaning data, we tried to get some insights, we found strong evidence of:\n",
    "\n",
    "- The most polular, most retweeted and favorited breed dogs, we notice even a breed dog is most popular don't get bigger favorite and retweet acts;\n",
    "- The correlation between favorited and retweeted counts it was positive, which is logic;\n",
    "- The most breeds get a moderate rating between 10 and 12, which imply that the account users behavior is overdone the rating;\n",
    "- During the year the tweet counts is moderate except the november and december, but for this two last month the favorite and retweet count is not in same tendency.\n"
   ]
  },
  {
   "cell_type": "markdown",
   "metadata": {},
   "source": [
    "## **Sources**"
   ]
  },
  {
   "cell_type": "markdown",
   "metadata": {},
   "source": [
    "- https://regexone.com/ , I used this website for all my extracting data work;\n",
    "- https://www.geeksforgeeks.org/filter-in-python/ , to make a filter with some conditions using the lambda function;\n",
    "- https://www.geeksforgeeks.org/matplotlib-axes-axes-twinx-in-python/ , for double ploting logic;"
   ]
  },
  {
   "cell_type": "code",
   "execution_count": null,
   "metadata": {},
   "outputs": [],
   "source": []
  }
 ],
 "metadata": {
  "kernelspec": {
   "display_name": "Python 3",
   "language": "python",
   "name": "python3"
  },
  "language_info": {
   "codemirror_mode": {
    "name": "ipython",
    "version": 3
   },
   "file_extension": ".py",
   "mimetype": "text/x-python",
   "name": "python",
   "nbconvert_exporter": "python",
   "pygments_lexer": "ipython3",
   "version": "3.8.1"
  }
 },
 "nbformat": 4,
 "nbformat_minor": 4
}
